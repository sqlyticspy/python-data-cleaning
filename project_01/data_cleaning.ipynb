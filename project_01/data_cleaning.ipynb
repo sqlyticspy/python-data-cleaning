{
 "cells": [
  {
   "cell_type": "code",
   "execution_count": 107,
   "id": "f9203067",
   "metadata": {},
   "outputs": [
    {
     "data": {
      "application/vnd.microsoft.datawrangler.viewer.v0+json": {
       "columns": [
        {
         "name": "index",
         "rawType": "int64",
         "type": "integer"
        },
        {
         "name": "order_id",
         "rawType": "object",
         "type": "string"
        },
        {
         "name": "customer_name",
         "rawType": "object",
         "type": "string"
        },
        {
         "name": "region",
         "rawType": "object",
         "type": "string"
        },
        {
         "name": "product",
         "rawType": "object",
         "type": "string"
        },
        {
         "name": "sales_rep",
         "rawType": "object",
         "type": "string"
        },
        {
         "name": "order_date",
         "rawType": "object",
         "type": "string"
        },
        {
         "name": "quantity",
         "rawType": "int64",
         "type": "integer"
        },
        {
         "name": "unit_price",
         "rawType": "float64",
         "type": "float"
        },
        {
         "name": "discount",
         "rawType": "object",
         "type": "string"
        },
        {
         "name": "shipping_cost",
         "rawType": "float64",
         "type": "float"
        },
        {
         "name": "revenue",
         "rawType": "object",
         "type": "string"
        },
        {
         "name": "total_cost",
         "rawType": "float64",
         "type": "float"
        },
        {
         "name": "priority",
         "rawType": "object",
         "type": "string"
        },
        {
         "name": "sales_rep_email",
         "rawType": "object",
         "type": "string"
        }
       ],
       "ref": "34fb855e-9670-4da2-a376-a1685dad0431",
       "rows": [
        [
         "0",
         "ELX-1000",
         "TechMart",
         "North",
         "Fitbit Charge 6",
         "Jane Doe",
         "2023-04-25",
         "9",
         "887.72",
         "0.17",
         "22.84",
         "$6,631.27",
         "6654.11",
         "medium",
         "janedoe@gmail.com"
        ],
        [
         "1",
         "ELX-1001",
         "TechMart",
         "Central",
         "Power Bank",
         "John Smith",
         "2023-01-16",
         "6",
         "274.09",
         "0.13",
         "5.53",
         "1430.75",
         "1436.28",
         "HIGH",
         "JOHNSMITH@YAHOO.COM"
        ],
        [
         "2",
         "ELX-1002",
         "Electronics Plus",
         "Central",
         "Power Bank",
         "Jane Doe",
         "2023-08-18",
         "38",
         "344.66",
         "0.22",
         "20.18",
         "10215.72",
         "10235.9",
         "High",
         "janedoe@gmail.com"
        ],
        [
         "3",
         "ELX-1003",
         "Electronics Plus",
         "West",
         "Screen Protector",
         "Bob Wilson",
         "2023-03-21",
         "14",
         "1149.3",
         "0.08",
         "6.85",
         "14802.98",
         "14809.83",
         "medium",
         "bobwilson@gmail.com"
        ],
        [
         "4",
         "ELX-1004",
         "  TechMart  ",
         "East",
         "Wireless Charger",
         "Mike Davis",
         "2023-05-16",
         "3",
         "879.73",
         "0.13",
         "24.46",
         "2296.1",
         "2320.56",
         "Medium",
         "mikedavis@avc.io"
        ]
       ],
       "shape": {
        "columns": 14,
        "rows": 5
       }
      },
      "text/html": [
       "<div>\n",
       "<style scoped>\n",
       "    .dataframe tbody tr th:only-of-type {\n",
       "        vertical-align: middle;\n",
       "    }\n",
       "\n",
       "    .dataframe tbody tr th {\n",
       "        vertical-align: top;\n",
       "    }\n",
       "\n",
       "    .dataframe thead th {\n",
       "        text-align: right;\n",
       "    }\n",
       "</style>\n",
       "<table border=\"1\" class=\"dataframe\">\n",
       "  <thead>\n",
       "    <tr style=\"text-align: right;\">\n",
       "      <th></th>\n",
       "      <th>order_id</th>\n",
       "      <th>customer_name</th>\n",
       "      <th>region</th>\n",
       "      <th>product</th>\n",
       "      <th>sales_rep</th>\n",
       "      <th>order_date</th>\n",
       "      <th>quantity</th>\n",
       "      <th>unit_price</th>\n",
       "      <th>discount</th>\n",
       "      <th>shipping_cost</th>\n",
       "      <th>revenue</th>\n",
       "      <th>total_cost</th>\n",
       "      <th>priority</th>\n",
       "      <th>sales_rep_email</th>\n",
       "    </tr>\n",
       "  </thead>\n",
       "  <tbody>\n",
       "    <tr>\n",
       "      <th>0</th>\n",
       "      <td>ELX-1000</td>\n",
       "      <td>TechMart</td>\n",
       "      <td>North</td>\n",
       "      <td>Fitbit Charge 6</td>\n",
       "      <td>Jane Doe</td>\n",
       "      <td>2023-04-25</td>\n",
       "      <td>9</td>\n",
       "      <td>887.72</td>\n",
       "      <td>0.17</td>\n",
       "      <td>22.84</td>\n",
       "      <td>$6,631.27</td>\n",
       "      <td>6654.11</td>\n",
       "      <td>medium</td>\n",
       "      <td>janedoe@gmail.com</td>\n",
       "    </tr>\n",
       "    <tr>\n",
       "      <th>1</th>\n",
       "      <td>ELX-1001</td>\n",
       "      <td>TechMart</td>\n",
       "      <td>Central</td>\n",
       "      <td>Power Bank</td>\n",
       "      <td>John Smith</td>\n",
       "      <td>2023-01-16</td>\n",
       "      <td>6</td>\n",
       "      <td>274.09</td>\n",
       "      <td>0.13</td>\n",
       "      <td>5.53</td>\n",
       "      <td>1430.75</td>\n",
       "      <td>1436.28</td>\n",
       "      <td>HIGH</td>\n",
       "      <td>JOHNSMITH@YAHOO.COM</td>\n",
       "    </tr>\n",
       "    <tr>\n",
       "      <th>2</th>\n",
       "      <td>ELX-1002</td>\n",
       "      <td>Electronics Plus</td>\n",
       "      <td>Central</td>\n",
       "      <td>Power Bank</td>\n",
       "      <td>Jane Doe</td>\n",
       "      <td>2023-08-18</td>\n",
       "      <td>38</td>\n",
       "      <td>344.66</td>\n",
       "      <td>0.22</td>\n",
       "      <td>20.18</td>\n",
       "      <td>10215.72</td>\n",
       "      <td>10235.90</td>\n",
       "      <td>High</td>\n",
       "      <td>janedoe@gmail.com</td>\n",
       "    </tr>\n",
       "    <tr>\n",
       "      <th>3</th>\n",
       "      <td>ELX-1003</td>\n",
       "      <td>Electronics Plus</td>\n",
       "      <td>West</td>\n",
       "      <td>Screen Protector</td>\n",
       "      <td>Bob Wilson</td>\n",
       "      <td>2023-03-21</td>\n",
       "      <td>14</td>\n",
       "      <td>1149.30</td>\n",
       "      <td>0.08</td>\n",
       "      <td>6.85</td>\n",
       "      <td>14802.98</td>\n",
       "      <td>14809.83</td>\n",
       "      <td>medium</td>\n",
       "      <td>bobwilson@gmail.com</td>\n",
       "    </tr>\n",
       "    <tr>\n",
       "      <th>4</th>\n",
       "      <td>ELX-1004</td>\n",
       "      <td>TechMart</td>\n",
       "      <td>East</td>\n",
       "      <td>Wireless Charger</td>\n",
       "      <td>Mike Davis</td>\n",
       "      <td>2023-05-16</td>\n",
       "      <td>3</td>\n",
       "      <td>879.73</td>\n",
       "      <td>0.13</td>\n",
       "      <td>24.46</td>\n",
       "      <td>2296.1</td>\n",
       "      <td>2320.56</td>\n",
       "      <td>Medium</td>\n",
       "      <td>mikedavis@avc.io</td>\n",
       "    </tr>\n",
       "  </tbody>\n",
       "</table>\n",
       "</div>"
      ],
      "text/plain": [
       "   order_id     customer_name   region           product   sales_rep  \\\n",
       "0  ELX-1000          TechMart    North   Fitbit Charge 6    Jane Doe   \n",
       "1  ELX-1001          TechMart  Central        Power Bank  John Smith   \n",
       "2  ELX-1002  Electronics Plus  Central        Power Bank    Jane Doe   \n",
       "3  ELX-1003  Electronics Plus     West  Screen Protector  Bob Wilson   \n",
       "4  ELX-1004        TechMart       East  Wireless Charger  Mike Davis   \n",
       "\n",
       "   order_date  quantity  unit_price discount  shipping_cost    revenue  \\\n",
       "0  2023-04-25         9      887.72     0.17          22.84  $6,631.27   \n",
       "1  2023-01-16         6      274.09     0.13           5.53    1430.75   \n",
       "2  2023-08-18        38      344.66     0.22          20.18   10215.72   \n",
       "3  2023-03-21        14     1149.30     0.08           6.85   14802.98   \n",
       "4  2023-05-16         3      879.73     0.13          24.46     2296.1   \n",
       "\n",
       "   total_cost priority      sales_rep_email  \n",
       "0     6654.11   medium    janedoe@gmail.com  \n",
       "1     1436.28     HIGH  JOHNSMITH@YAHOO.COM  \n",
       "2    10235.90     High    janedoe@gmail.com  \n",
       "3    14809.83   medium  bobwilson@gmail.com  \n",
       "4     2320.56   Medium     mikedavis@avc.io  "
      ]
     },
     "execution_count": 107,
     "metadata": {},
     "output_type": "execute_result"
    }
   ],
   "source": [
    "import pandas as pd\n",
    "\n",
    "df = pd.read_csv(\"sales_data.csv\")\n",
    "df.head()"
   ]
  },
  {
   "cell_type": "code",
   "execution_count": 108,
   "id": "84f65b0f",
   "metadata": {},
   "outputs": [
    {
     "name": "stdout",
     "output_type": "stream",
     "text": [
      "<class 'pandas.core.frame.DataFrame'>\n",
      "RangeIndex: 1050 entries, 0 to 1049\n",
      "Data columns (total 14 columns):\n",
      " #   Column           Non-Null Count  Dtype  \n",
      "---  ------           --------------  -----  \n",
      " 0   order_id         1050 non-null   object \n",
      " 1   customer_name    1050 non-null   object \n",
      " 2   region           1050 non-null   object \n",
      " 3   product          1050 non-null   object \n",
      " 4   sales_rep        1050 non-null   object \n",
      " 5   order_date       1050 non-null   object \n",
      " 6   quantity         1050 non-null   int64  \n",
      " 7   unit_price       1050 non-null   float64\n",
      " 8   discount         1029 non-null   object \n",
      " 9   shipping_cost    1050 non-null   float64\n",
      " 10  revenue          1016 non-null   object \n",
      " 11  total_cost       1050 non-null   float64\n",
      " 12  priority         918 non-null    object \n",
      " 13  sales_rep_email  7 non-null      object \n",
      "dtypes: float64(3), int64(1), object(10)\n",
      "memory usage: 115.0+ KB\n"
     ]
    }
   ],
   "source": [
    "df.info()"
   ]
  },
  {
   "cell_type": "markdown",
   "id": "596bd158",
   "metadata": {},
   "source": [
    "Looking at the DataFrame info, several columns have incorrect data types that should be converted:\n",
    "Columns that need conversion:\n",
    "\n",
    "*order_date (currently object)* - Should be converted to datetime64 since this represents dates  \n",
    "*discount (currently object)* - Should be converted to float64 since discounts are typically numeric values (percentages or amounts)  \n",
    "*revenue (currently object)* - Should be converted to float64 since revenue is a monetary/numeric value."
   ]
  },
  {
   "cell_type": "markdown",
   "id": "16586e6d",
   "metadata": {},
   "source": [
    "*customer_name*"
   ]
  },
  {
   "cell_type": "code",
   "execution_count": 109,
   "id": "477ccda4",
   "metadata": {},
   "outputs": [
    {
     "data": {
      "text/plain": [
       "array(['TechMart', 'Electronics Plus', '  TechMart  ', 'GadgetHub',\n",
       "       'Digital World', 'Smart Store', '  Smart Store  ',\n",
       "       '  Digital World  ', '  GadgetHub  ', '  Electronics Plus  ',\n",
       "       '    Digital World    ', '    Smart Store    ',\n",
       "       '      Electronics Plus      ', '  Smart Store   Inc.',\n",
       "       '  TechMart   Inc.', 'GadgetHub Inc.', 'Electronics Plus Inc.',\n",
       "       'TechMart Inc.', 'Digital World Inc.', 'Smart Store Inc.',\n",
       "       '  Electronics Plus   Inc.', '  GadgetHub   Inc.'], dtype=object)"
      ]
     },
     "execution_count": 109,
     "metadata": {},
     "output_type": "execute_result"
    }
   ],
   "source": [
    "df.customer_name.unique()"
   ]
  },
  {
   "cell_type": "code",
   "execution_count": 110,
   "id": "c5e701ea",
   "metadata": {},
   "outputs": [],
   "source": [
    "import re\n",
    "\n",
    "df['customer_name'] = (\n",
    "    df['customer_name']\n",
    "    # Remove leading and trailing spaces\n",
    "    .str.strip() \n",
    "\n",
    "    # Replace multiple spaces with a single space\n",
    "    .apply(lambda x: re.sub(r'\\s+', ' ', x))  \n",
    "\n",
    "    # Remove 'Inc.', 'Inc', and variations with trailing spaces\n",
    "    .str.replace(r'\\s*Inc\\.*$', '', regex=True)\n",
    "    \n",
    "    # Convert to title case for consistency \n",
    "    .str.title()  \n",
    ")"
   ]
  },
  {
   "cell_type": "code",
   "execution_count": 111,
   "id": "cc0d12e6",
   "metadata": {},
   "outputs": [
    {
     "data": {
      "text/plain": [
       "array(['Techmart', 'Electronics Plus', 'Gadgethub', 'Digital World',\n",
       "       'Smart Store'], dtype=object)"
      ]
     },
     "execution_count": 111,
     "metadata": {},
     "output_type": "execute_result"
    }
   ],
   "source": [
    "df.customer_name.unique()"
   ]
  },
  {
   "cell_type": "markdown",
   "id": "4391b1fb",
   "metadata": {},
   "source": [
    "*region*"
   ]
  },
  {
   "cell_type": "code",
   "execution_count": 112,
   "id": "04b5f8be",
   "metadata": {},
   "outputs": [
    {
     "data": {
      "text/plain": [
       "array(['North', 'Central', 'West', 'East', 'South', 'west', 'east',\n",
       "       'central', 'NORTH', 'WEST', 'EAST', 'CENTRAL', 'north', 'south',\n",
       "       'SOUTH'], dtype=object)"
      ]
     },
     "execution_count": 112,
     "metadata": {},
     "output_type": "execute_result"
    }
   ],
   "source": [
    "df.region.unique()"
   ]
  },
  {
   "cell_type": "code",
   "execution_count": 113,
   "id": "1b63dc17",
   "metadata": {},
   "outputs": [],
   "source": [
    "df['region']=df.region.str.capitalize()"
   ]
  },
  {
   "cell_type": "code",
   "execution_count": 114,
   "id": "6bf1da7e",
   "metadata": {},
   "outputs": [
    {
     "data": {
      "text/plain": [
       "array(['North', 'Central', 'West', 'East', 'South'], dtype=object)"
      ]
     },
     "execution_count": 114,
     "metadata": {},
     "output_type": "execute_result"
    }
   ],
   "source": [
    "df.region.unique()"
   ]
  },
  {
   "cell_type": "markdown",
   "id": "504f2598",
   "metadata": {},
   "source": [
    "*product*"
   ]
  },
  {
   "cell_type": "code",
   "execution_count": 115,
   "id": "df284ffc",
   "metadata": {},
   "outputs": [
    {
     "data": {
      "application/vnd.microsoft.datawrangler.viewer.v0+json": {
       "columns": [
        {
         "name": "product",
         "rawType": "object",
         "type": "string"
        },
        {
         "name": "count",
         "rawType": "int64",
         "type": "integer"
        }
       ],
       "ref": "2928d16b-6c73-49f5-a785-dc1e0ca9f2b8",
       "rows": [
        [
         "AIRPODS PRO",
         "2"
        ],
        [
         "AirPods Pro",
         "50"
        ],
        [
         "AirPods-Pro",
         "5"
        ],
        [
         "Apple AirPods Pro",
         "2"
        ],
        [
         "Apple MacBook Pro",
         "1"
        ],
        [
         "Apple Watch Series 9",
         "62"
        ],
        [
         "Apple iPhone 15",
         "5"
        ],
        [
         "Bluetooth Speaker",
         "61"
        ],
        [
         "Dell XPS 13",
         "62"
        ],
        [
         "Fitbit Charge 6",
         "62"
        ],
        [
         "Galaxy S24",
         "2"
        ],
        [
         "Gaming Headset",
         "54"
        ],
        [
         "IPHONE 15",
         "1"
        ],
        [
         "IPHONE CASE",
         "2"
        ],
        [
         "Laptop Stand",
         "68"
        ],
        [
         "MACBOOK PRO",
         "2"
        ],
        [
         "MacBook Pro",
         "43"
        ],
        [
         "MacBook-Pro",
         "1"
        ],
        [
         "Phone Case",
         "1"
        ],
        [
         "Phone Holder",
         "59"
        ],
        [
         "Portable Charger",
         "2"
        ],
        [
         "Power Bank",
         "47"
        ],
        [
         "PowerBank",
         "2"
        ],
        [
         "SAMSUNG GALAXY S24",
         "3"
        ],
        [
         "SCREEN PROTECTOR",
         "1"
        ],
        [
         "Samsung  Galaxy  S24",
         "3"
        ],
        [
         "Samsung Galaxy S24",
         "54"
        ],
        [
         "Screen Protector",
         "46"
        ],
        [
         "Screen-Protector",
         "3"
        ],
        [
         "Sony WH-1000XM5",
         "55"
        ],
        [
         "Type-C Cable",
         "3"
        ],
        [
         "USB C Cable",
         "6"
        ],
        [
         "USB-C Cable",
         "42"
        ],
        [
         "USBC Cable",
         "1"
        ],
        [
         "WIRELESS CHARGER",
         "3"
        ],
        [
         "Wireless Charger",
         "78"
        ],
        [
         "Wireless-Charger",
         "5"
        ],
        [
         "airpods pro",
         "1"
        ],
        [
         "galaxy s24",
         "1"
        ],
        [
         "iPad Air",
         "51"
        ],
        [
         "iPhone 15",
         "41"
        ],
        [
         "iPhone Case",
         "39"
        ],
        [
         "iPhone-15",
         "1"
        ],
        [
         "iPhone-Case",
         "5"
        ],
        [
         "iphone 15",
         "1"
        ],
        [
         "iphone case",
         "1"
        ],
        [
         "macbook pro",
         "2"
        ],
        [
         "power bank",
         "2"
        ],
        [
         "screen protector",
         "2"
        ],
        [
         "usb-c cable",
         "2"
        ]
       ],
       "shape": {
        "columns": 1,
        "rows": 51
       }
      },
      "text/plain": [
       "product\n",
       "AIRPODS PRO              2\n",
       "AirPods Pro             50\n",
       "AirPods-Pro              5\n",
       "Apple AirPods Pro        2\n",
       "Apple MacBook Pro        1\n",
       "Apple Watch Series 9    62\n",
       "Apple iPhone 15          5\n",
       "Bluetooth Speaker       61\n",
       "Dell XPS 13             62\n",
       "Fitbit Charge 6         62\n",
       "Galaxy S24               2\n",
       "Gaming Headset          54\n",
       "IPHONE 15                1\n",
       "IPHONE CASE              2\n",
       "Laptop Stand            68\n",
       "MACBOOK PRO              2\n",
       "MacBook Pro             43\n",
       "MacBook-Pro              1\n",
       "Phone Case               1\n",
       "Phone Holder            59\n",
       "Portable Charger         2\n",
       "Power Bank              47\n",
       "PowerBank                2\n",
       "SAMSUNG GALAXY S24       3\n",
       "SCREEN PROTECTOR         1\n",
       "Samsung  Galaxy  S24     3\n",
       "Samsung Galaxy S24      54\n",
       "Screen Protector        46\n",
       "Screen-Protector         3\n",
       "Sony WH-1000XM5         55\n",
       "Type-C Cable             3\n",
       "USB C Cable              6\n",
       "USB-C Cable             42\n",
       "USBC Cable               1\n",
       "WIRELESS CHARGER         3\n",
       "Wireless Charger        78\n",
       "Wireless-Charger         5\n",
       "airpods pro              1\n",
       "galaxy s24               1\n",
       "iPad Air                51\n",
       "iPhone 15               41\n",
       "iPhone Case             39\n",
       "iPhone-15                1\n",
       "iPhone-Case              5\n",
       "iphone 15                1\n",
       "iphone case              1\n",
       "macbook pro              2\n",
       "power bank               2\n",
       "screen protector         2\n",
       "usb-c cable              2\n",
       "wireless charger         2\n",
       "Name: count, dtype: int64"
      ]
     },
     "execution_count": 115,
     "metadata": {},
     "output_type": "execute_result"
    }
   ],
   "source": [
    "df['product'].value_counts().sort_index()"
   ]
  },
  {
   "cell_type": "markdown",
   "id": "23562f50",
   "metadata": {},
   "source": [
    "*order_date*"
   ]
  },
  {
   "cell_type": "code",
   "execution_count": 116,
   "id": "70bdb86d",
   "metadata": {},
   "outputs": [],
   "source": [
    "# Convert order_date to datetime\n",
    "df['order_date'] = pd.to_datetime(df['order_date'])"
   ]
  },
  {
   "cell_type": "markdown",
   "id": "99b28711",
   "metadata": {},
   "source": [
    "*discount*"
   ]
  },
  {
   "cell_type": "code",
   "execution_count": 117,
   "id": "81586d82",
   "metadata": {},
   "outputs": [
    {
     "data": {
      "application/vnd.microsoft.datawrangler.viewer.v0+json": {
       "columns": [
        {
         "name": "index",
         "rawType": "int64",
         "type": "integer"
        },
        {
         "name": "discount",
         "rawType": "object",
         "type": "unknown"
        }
       ],
       "ref": "57aeec6b-65b5-4217-9cb3-afc288e212c3",
       "rows": [
        [
         "0",
         "0.17"
        ],
        [
         "1",
         "0.13"
        ],
        [
         "2",
         "0.22"
        ],
        [
         "3",
         "0.08"
        ],
        [
         "4",
         "0.13"
        ],
        [
         "5",
         "0.09"
        ],
        [
         "6",
         "0.1"
        ],
        [
         "7",
         "0.23"
        ],
        [
         "8",
         "0.25"
        ],
        [
         "9",
         null
        ],
        [
         "10",
         "0.07"
        ],
        [
         "11",
         "0.05"
        ],
        [
         "12",
         "0.2"
        ],
        [
         "13",
         "0.14"
        ],
        [
         "14",
         "0.11"
        ],
        [
         "15",
         "0.16"
        ],
        [
         "16",
         "0.12"
        ],
        [
         "17",
         "0.02"
        ],
        [
         "18",
         "0.04"
        ],
        [
         "19",
         "0.1"
        ],
        [
         "20",
         "0.08"
        ],
        [
         "21",
         "0.06"
        ],
        [
         "22",
         "0.13"
        ],
        [
         "23",
         "0.02"
        ],
        [
         "24",
         "0.02"
        ],
        [
         "25",
         "0.11"
        ],
        [
         "26",
         "0.14"
        ],
        [
         "27",
         "0.1"
        ],
        [
         "28",
         "0.24"
        ],
        [
         "29",
         "0.14"
        ],
        [
         "30",
         "0.13"
        ],
        [
         "31",
         "0.06"
        ],
        [
         "32",
         "0.14"
        ],
        [
         "33",
         "0.16"
        ],
        [
         "34",
         "0.05"
        ],
        [
         "35",
         "0.14"
        ],
        [
         "36",
         "0.03"
        ],
        [
         "37",
         "0.09"
        ],
        [
         "38",
         "0.21"
        ],
        [
         "39",
         "0.14"
        ],
        [
         "40",
         "0.03"
        ],
        [
         "41",
         "0.14"
        ],
        [
         "42",
         "0.18"
        ],
        [
         "43",
         "0.01"
        ],
        [
         "44",
         "0.05"
        ],
        [
         "45",
         "0.13"
        ],
        [
         "46",
         "0.11"
        ],
        [
         "47",
         null
        ],
        [
         "48",
         "0.23"
        ],
        [
         "49",
         "0.17"
        ]
       ],
       "shape": {
        "columns": 1,
        "rows": 1050
       }
      },
      "text/plain": [
       "0       0.17\n",
       "1       0.13\n",
       "2       0.22\n",
       "3       0.08\n",
       "4       0.13\n",
       "        ... \n",
       "1045    0.03\n",
       "1046    0.11\n",
       "1047    0.08\n",
       "1048    0.03\n",
       "1049    0.25\n",
       "Name: discount, Length: 1050, dtype: object"
      ]
     },
     "execution_count": 117,
     "metadata": {},
     "output_type": "execute_result"
    }
   ],
   "source": [
    "df.discount"
   ]
  },
  {
   "cell_type": "markdown",
   "id": "d2e1338a",
   "metadata": {},
   "source": [
    "The discount column contains a mix of numeric values like 0.12 and 0.1, along with some nulls and \"-\" as placeholders. Since it's currently stored as an object type (string), which is not appropriate for numeric operations, we'll convert it to a proper numeric type (float)."
   ]
  },
  {
   "cell_type": "code",
   "execution_count": 118,
   "id": "4b38720a",
   "metadata": {},
   "outputs": [],
   "source": [
    "# Convert discount to float\n",
    "df['discount'] = pd.to_numeric(df['discount'], errors='coerce')"
   ]
  },
  {
   "cell_type": "markdown",
   "id": "384275a6",
   "metadata": {},
   "source": [
    "*revenue*"
   ]
  },
  {
   "cell_type": "code",
   "execution_count": 119,
   "id": "15e5061e",
   "metadata": {},
   "outputs": [
    {
     "data": {
      "application/vnd.microsoft.datawrangler.viewer.v0+json": {
       "columns": [
        {
         "name": "index",
         "rawType": "int64",
         "type": "integer"
        },
        {
         "name": "revenue",
         "rawType": "object",
         "type": "unknown"
        }
       ],
       "ref": "4ef95b24-f644-41c6-8c69-ccc85013c2df",
       "rows": [
        [
         "0",
         "$6,631.27"
        ],
        [
         "1",
         "1430.75"
        ],
        [
         "2",
         "10215.72"
        ],
        [
         "3",
         "14802.98"
        ],
        [
         "4",
         "2296.1"
        ],
        [
         "5",
         "$38,739.06"
        ],
        [
         "6",
         "14064.03"
        ],
        [
         "7",
         "10971.66"
        ],
        [
         "8",
         "10454.62"
        ],
        [
         "9",
         "2616.25"
        ],
        [
         "10",
         "21824.38"
        ],
        [
         "11",
         "17627.27"
        ],
        [
         "12",
         "6068.16"
        ],
        [
         "13",
         "9150.07"
        ],
        [
         "14",
         "8965.68"
        ],
        [
         "15",
         "12696.65"
        ],
        [
         "16",
         "637.78"
        ],
        [
         "17",
         "41232.7"
        ],
        [
         "18",
         "33837.72"
        ],
        [
         "19",
         "10060.13"
        ],
        [
         "20",
         "4140.29"
        ],
        [
         "21",
         "32986.07"
        ],
        [
         "22",
         "22080.13"
        ],
        [
         "23",
         "6367.33"
        ],
        [
         "24",
         "48619.84"
        ],
        [
         "25",
         "17026.9"
        ],
        [
         "26",
         "2710.0"
        ],
        [
         "27",
         "7485.29"
        ],
        [
         "28",
         "7454.79"
        ],
        [
         "29",
         "14001.56"
        ],
        [
         "30",
         "31709.33"
        ],
        [
         "31",
         "3831.11"
        ],
        [
         "32",
         "18436.45"
        ],
        [
         "33",
         "3714.77"
        ],
        [
         "34",
         "677.04"
        ],
        [
         "35",
         "$5,054.01"
        ],
        [
         "36",
         "7656.61"
        ],
        [
         "37",
         "$9,390.65"
        ],
        [
         "38",
         "3633.83"
        ],
        [
         "39",
         "26353.77"
        ],
        [
         "40",
         "$6,651.91"
        ],
        [
         "41",
         "2613.34"
        ],
        [
         "42",
         "982.35"
        ],
        [
         "43",
         "3245.39"
        ],
        [
         "44",
         "613.32"
        ],
        [
         "45",
         "$45,080.82"
        ],
        [
         "46",
         "383.04"
        ],
        [
         "47",
         "$8,799.99"
        ],
        [
         "48",
         "4386.77"
        ],
        [
         "49",
         "8998.29"
        ]
       ],
       "shape": {
        "columns": 1,
        "rows": 1050
       }
      },
      "text/plain": [
       "0       $6,631.27\n",
       "1         1430.75\n",
       "2        10215.72\n",
       "3        14802.98\n",
       "4          2296.1\n",
       "          ...    \n",
       "1045     10922.39\n",
       "1046     31138.37\n",
       "1047      1688.18\n",
       "1048      4458.65\n",
       "1049      7020.29\n",
       "Name: revenue, Length: 1050, dtype: object"
      ]
     },
     "execution_count": 119,
     "metadata": {},
     "output_type": "execute_result"
    }
   ],
   "source": [
    "df.revenue"
   ]
  },
  {
   "cell_type": "markdown",
   "id": "9385b660",
   "metadata": {},
   "source": [
    "The revenue column is currently of type object and contains values like \"$6,631.27\", which can't be directly converted to numeric due to the dollar sign and comma.\n",
    "\n",
    "So before converting it to a numeric type, we’ll first remove the leading dollar sign  and comma."
   ]
  },
  {
   "cell_type": "code",
   "execution_count": 120,
   "id": "d7f241c8",
   "metadata": {},
   "outputs": [],
   "source": [
    "# Remove the leading dollar sign from the 'revenue' values\n",
    "df['revenue'] = df['revenue'].str.lstrip('$')\n",
    "\n",
    "# Remove commas from the 'revenue' values to prepare for numeric conversion\n",
    "df['revenue'] = df['revenue'].str.replace(',', '', regex=False)"
   ]
  },
  {
   "cell_type": "code",
   "execution_count": 121,
   "id": "66b2c73f",
   "metadata": {},
   "outputs": [],
   "source": [
    "# Convert to numeric type\n",
    "df['revenue'] = pd.to_numeric(df['revenue'], errors='coerce')"
   ]
  },
  {
   "cell_type": "markdown",
   "id": "a1f3d206",
   "metadata": {},
   "source": [
    "*priority*"
   ]
  },
  {
   "cell_type": "code",
   "execution_count": 122,
   "id": "30c7a488",
   "metadata": {},
   "outputs": [
    {
     "data": {
      "text/plain": [
       "array(['medium', 'HIGH', 'High', 'Medium', nan, 'Low', 'high', 'low'],\n",
       "      dtype=object)"
      ]
     },
     "execution_count": 122,
     "metadata": {},
     "output_type": "execute_result"
    }
   ],
   "source": [
    "df['priority'].unique()"
   ]
  },
  {
   "cell_type": "markdown",
   "id": "8048cac7",
   "metadata": {},
   "source": [
    "In the priority column, we have values with inconsistent capitalization.\n",
    "To make the values consistent, we'll standardize the text format, so that all values follow the same casing (e.g., 'High', 'Medium', 'Low')."
   ]
  },
  {
   "cell_type": "code",
   "execution_count": 123,
   "id": "8ecc745b",
   "metadata": {},
   "outputs": [],
   "source": [
    "df.priority=df.priority.str.capitalize()"
   ]
  },
  {
   "cell_type": "markdown",
   "id": "a19230ea",
   "metadata": {},
   "source": [
    "Furthermore, we can convert the priority column into a pandas Categorical data type with a defined order. This helps pandas understand the logical sequence of priorities (i.e., 'Low' < 'Medium' < 'High') for sorting and comparisons."
   ]
  },
  {
   "cell_type": "code",
   "execution_count": 124,
   "id": "7a012b90",
   "metadata": {},
   "outputs": [],
   "source": [
    "priority_order = ['Low', 'Medium', 'High']\n",
    "\n",
    "df['priority'] = pd.Categorical(\n",
    "    df['priority'],\n",
    "    categories=priority_order,\n",
    "    ordered=True\n",
    ")"
   ]
  },
  {
   "cell_type": "code",
   "execution_count": 125,
   "id": "43d336b8",
   "metadata": {},
   "outputs": [
    {
     "data": {
      "application/vnd.microsoft.datawrangler.viewer.v0+json": {
       "columns": [
        {
         "name": "index",
         "rawType": "int64",
         "type": "integer"
        },
        {
         "name": "priority",
         "rawType": "category",
         "type": "unknown"
        }
       ],
       "ref": "912aa2a3-85b9-4af1-ae03-f6f98ceb1d4f",
       "rows": [
        [
         "1049",
         "Low"
        ],
        [
         "269",
         "Low"
        ],
        [
         "706",
         "Low"
        ],
        [
         "266",
         "Low"
        ],
        [
         "265",
         "Low"
        ],
        [
         "707",
         "Low"
        ],
        [
         "709",
         "Low"
        ],
        [
         "714",
         "Low"
        ],
        [
         "717",
         "Low"
        ],
        [
         "258",
         "Low"
        ],
        [
         "719",
         "Low"
        ],
        [
         "721",
         "Low"
        ],
        [
         "254",
         "Low"
        ],
        [
         "725",
         "Low"
        ],
        [
         "726",
         "Low"
        ],
        [
         "727",
         "Low"
        ],
        [
         "272",
         "Low"
        ],
        [
         "735",
         "Low"
        ],
        [
         "700",
         "Low"
        ],
        [
         "277",
         "Low"
        ],
        [
         "657",
         "Low"
        ],
        [
         "660",
         "Low"
        ],
        [
         "662",
         "Low"
        ],
        [
         "666",
         "Low"
        ],
        [
         "301",
         "Low"
        ],
        [
         "669",
         "Low"
        ],
        [
         "670",
         "Low"
        ],
        [
         "671",
         "Low"
        ],
        [
         "672",
         "Low"
        ],
        [
         "294",
         "Low"
        ],
        [
         "673",
         "Low"
        ],
        [
         "681",
         "Low"
        ],
        [
         "682",
         "Low"
        ],
        [
         "684",
         "Low"
        ],
        [
         "690",
         "Low"
        ],
        [
         "695",
         "Low"
        ],
        [
         "312",
         "Low"
        ],
        [
         "736",
         "Low"
        ],
        [
         "740",
         "Low"
        ],
        [
         "205",
         "Low"
        ],
        [
         "779",
         "Low"
        ],
        [
         "780",
         "Low"
        ],
        [
         "784",
         "Low"
        ],
        [
         "785",
         "Low"
        ],
        [
         "789",
         "Low"
        ],
        [
         "792",
         "Low"
        ],
        [
         "793",
         "Low"
        ],
        [
         "798",
         "Low"
        ],
        [
         "186",
         "Low"
        ],
        [
         "185",
         "Low"
        ]
       ],
       "shape": {
        "columns": 1,
        "rows": 1050
       }
      },
      "text/plain": [
       "1049    Low\n",
       "269     Low\n",
       "706     Low\n",
       "266     Low\n",
       "265     Low\n",
       "       ... \n",
       "1017    NaN\n",
       "1018    NaN\n",
       "1025    NaN\n",
       "1032    NaN\n",
       "1038    NaN\n",
       "Name: priority, Length: 1050, dtype: category\n",
       "Categories (3, object): ['Low' < 'Medium' < 'High']"
      ]
     },
     "execution_count": 125,
     "metadata": {},
     "output_type": "execute_result"
    }
   ],
   "source": [
    "df.priority.sort_values()"
   ]
  },
  {
   "cell_type": "markdown",
   "id": "84aca764",
   "metadata": {},
   "source": [
    "*sales_rep_email*"
   ]
  },
  {
   "cell_type": "code",
   "execution_count": 126,
   "id": "b8e59e14",
   "metadata": {},
   "outputs": [],
   "source": [
    "# Convert all email addresses in 'sales_rep_email' column to lowercase\n",
    "df['sales_rep_email'] = df.sales_rep_email.str.lower()"
   ]
  },
  {
   "cell_type": "code",
   "execution_count": 127,
   "id": "936e3377",
   "metadata": {},
   "outputs": [
    {
     "data": {
      "application/vnd.microsoft.datawrangler.viewer.v0+json": {
       "columns": [
        {
         "name": "index",
         "rawType": "int64",
         "type": "integer"
        },
        {
         "name": "order_id",
         "rawType": "object",
         "type": "string"
        },
        {
         "name": "customer_name",
         "rawType": "object",
         "type": "string"
        },
        {
         "name": "region",
         "rawType": "object",
         "type": "string"
        },
        {
         "name": "product",
         "rawType": "object",
         "type": "string"
        },
        {
         "name": "sales_rep",
         "rawType": "object",
         "type": "string"
        },
        {
         "name": "order_date",
         "rawType": "datetime64[ns]",
         "type": "datetime"
        },
        {
         "name": "quantity",
         "rawType": "int64",
         "type": "integer"
        },
        {
         "name": "unit_price",
         "rawType": "float64",
         "type": "float"
        },
        {
         "name": "discount",
         "rawType": "float64",
         "type": "float"
        },
        {
         "name": "shipping_cost",
         "rawType": "float64",
         "type": "float"
        },
        {
         "name": "revenue",
         "rawType": "float64",
         "type": "float"
        },
        {
         "name": "total_cost",
         "rawType": "float64",
         "type": "float"
        },
        {
         "name": "priority",
         "rawType": "category",
         "type": "unknown"
        },
        {
         "name": "sales_rep_email",
         "rawType": "object",
         "type": "unknown"
        }
       ],
       "ref": "5ee9f759-98d9-4d1f-86c9-5a355901c5a2",
       "rows": [
        [
         "6",
         "ELX-1006",
         "Techmart",
         "North",
         "Apple Watch Series 9",
         "Bob Wilson",
         "2023-02-10 00:00:00",
         "15",
         "1041.78",
         "0.1",
         "14.07",
         "14064.03",
         "14078.1",
         "Low",
         null
        ],
        [
         "7",
         "ELX-1007",
         "Digital World",
         "South",
         "Wireless Charger",
         "Bob Wilson",
         "2023-04-18 00:00:00",
         "43",
         "331.37",
         "0.23",
         "17.96",
         "10971.66",
         "10989.62",
         "High",
         null
        ],
        [
         "8",
         "ELX-1008",
         "Smart Store",
         "South",
         "Phone Holder",
         "Jane Doe",
         "2023-03-25 00:00:00",
         "30",
         "464.65",
         "0.25",
         "17.8",
         "10454.62",
         "10472.42",
         "Medium",
         null
        ],
        [
         "9",
         "ELX-1009",
         "Smart Store",
         "South",
         "Screen Protector",
         "John Smith",
         "2023-04-28 00:00:00",
         "3",
         "968.98",
         null,
         "6.32",
         "2616.25",
         "2622.57",
         "Medium",
         null
        ],
        [
         "11",
         "ELX-1011",
         "Smart Store",
         "Central",
         "Fitbit Charge 6",
         "Mike Davis",
         "2023-08-08 00:00:00",
         "38",
         "488.29",
         "0.05",
         "24.95",
         "17627.27",
         "17652.22",
         "High",
         null
        ],
        [
         "12",
         "ELX-1012",
         "Smart Store",
         "West",
         "MacBook Pro",
         "John Smith",
         "2023-02-26 00:00:00",
         "10",
         "758.52",
         "0.2",
         "13.44",
         "6068.16",
         "6081.6",
         "High",
         null
        ],
        [
         "13",
         "ELX-1013",
         "Techmart",
         "West",
         "USB-C Cable",
         "Mike Davis",
         "2023-08-28 00:00:00",
         "34",
         "312.93",
         "0.14",
         "23.85",
         "9150.07",
         "9173.92",
         "Medium",
         null
        ],
        [
         "14",
         "ELX-1014",
         "Techmart",
         "Central",
         "Fitbit Charge 6",
         "Bob Wilson",
         "2023-02-27 00:00:00",
         "19",
         "530.2",
         "0.11",
         "24.08",
         "8965.68",
         "8989.76",
         null,
         null
        ],
        [
         "15",
         "ELX-1015",
         "Digital World",
         "Central",
         "AirPods Pro",
         "Mike Davis",
         "2023-02-24 00:00:00",
         "41",
         "368.66",
         "0.16",
         "17.18",
         "12696.65",
         "12713.83",
         "Medium",
         null
        ],
        [
         "16",
         "ELX-1016",
         "Electronics Plus",
         "East",
         "airpods pro",
         "Mike Davis",
         "2023-09-29 00:00:00",
         "1",
         "724.75",
         "0.12",
         "7.24",
         "637.78",
         "645.02",
         "High",
         null
        ],
        [
         "17",
         "ELX-1017",
         "Digital World",
         "East",
         "Apple Watch Series 9",
         "John Smith",
         "2023-04-05 00:00:00",
         "37",
         "1137.14",
         "0.02",
         "14.72",
         "41232.7",
         "41247.42",
         "Low",
         null
        ],
        [
         "18",
         "ELX-1018",
         "Techmart",
         "Central",
         "iPad Air",
         "Jane Doe",
         "2023-12-04 00:00:00",
         "31",
         "1137.02",
         "0.04",
         "15.55",
         "33837.72",
         "33853.27",
         "High",
         null
        ],
        [
         "19",
         "ELX-1019",
         "Smart Store",
         "West",
         "Sony WH-1000XM5",
         "Mike Davis",
         "2023-12-20 00:00:00",
         "13",
         "859.84",
         "0.1",
         "18.43",
         "10060.13",
         "10078.56",
         "High",
         null
        ],
        [
         "20",
         "ELX-1020",
         "Digital World",
         "West",
         "Laptop Stand",
         "Alice Brown",
         "2023-03-03 00:00:00",
         "16",
         "281.27",
         "0.08",
         "16.77",
         "4140.29",
         "4157.06",
         null,
         null
        ],
        [
         "21",
         "ELX-1021",
         "Electronics Plus",
         "Central",
         "Apple Watch Series 9",
         "John Smith",
         "2023-02-06 00:00:00",
         "46",
         "762.86",
         "0.06",
         "23.11",
         "32986.07",
         "33009.18",
         "Low",
         null
        ],
        [
         "22",
         "ELX-1022",
         "Digital World",
         "North",
         "Laptop Stand",
         "Jane Doe",
         "2023-05-23 00:00:00",
         "43",
         "590.22",
         "0.13",
         "19.47",
         "22080.13",
         "22099.6",
         "Low",
         null
        ],
        [
         "23",
         "ELX-1023",
         "Smart Store",
         "Central",
         "Gaming Headset",
         "Jane Doe",
         "2023-08-31 00:00:00",
         "27",
         "240.64",
         "0.02",
         "13.62",
         "6367.33",
         "6380.95",
         "Low",
         null
        ],
        [
         "24",
         "ELX-1024",
         "Gadgethub",
         "West",
         "Bluetooth Speaker",
         "John Smith",
         "2023-12-11 00:00:00",
         "42",
         "1181.24",
         "0.02",
         "13.05",
         "48619.84",
         "48632.89",
         "Low",
         null
        ],
        [
         "25",
         "ELX-1025",
         "Digital World",
         "North",
         "Apple Watch Series 9",
         "Jane Doe",
         "2023-04-08 00:00:00",
         "35",
         "546.61",
         "0.11",
         "10.57",
         "17026.9",
         "17037.47",
         "Medium",
         null
        ],
        [
         "26",
         "ELX-1026",
         "Electronics Plus",
         "North",
         "Bluetooth Speaker",
         "Mike Davis",
         "2023-02-20 00:00:00",
         "4",
         "787.79",
         "0.14",
         "5.3",
         "2710.0",
         "2715.3",
         "Medium",
         null
        ],
        [
         "27",
         "ELX-1027",
         "Techmart",
         "South",
         "Apple AirPods Pro",
         "Alice Brown",
         "2023-09-06 00:00:00",
         "31",
         "268.29",
         "0.1",
         "6.17",
         "7485.29",
         "7491.46",
         "High",
         null
        ],
        [
         "28",
         "ELX-1028",
         "Gadgethub",
         "North",
         "USB-C Cable",
         "Bob Wilson",
         "2023-08-21 00:00:00",
         "19",
         "516.26",
         "0.24",
         "24.91",
         "7454.79",
         "7479.7",
         "High",
         null
        ],
        [
         "29",
         "ELX-1029",
         "Smart Store",
         "West",
         "iPad Air",
         "Jane Doe",
         "2023-06-01 00:00:00",
         "14",
         "1162.92",
         "0.14",
         "15.84",
         "14001.56",
         "14017.4",
         "Medium",
         null
        ],
        [
         "30",
         "ELX-1030",
         "Digital World",
         "North",
         "Samsung Galaxy S24",
         "Mike Davis",
         "2023-09-02 00:00:00",
         "33",
         "1104.47",
         "0.13",
         "6.14",
         "31709.33",
         "31715.47",
         "Medium",
         null
        ],
        [
         "31",
         "ELX-1031",
         "Smart Store",
         "North",
         "AirPods Pro",
         "John Smith",
         "2023-11-01 00:00:00",
         "5",
         "815.13",
         "0.06",
         "7.4",
         "3831.11",
         "3838.51",
         null,
         null
        ],
        [
         "32",
         "ELX-1032",
         "Smart Store",
         "South",
         "Samsung  Galaxy  S24",
         "Mike Davis",
         "2023-02-11 00:00:00",
         "27",
         "793.99",
         "0.14",
         "11.33",
         "18436.45",
         "18447.78",
         "Medium",
         null
        ],
        [
         "33",
         "ELX-1033",
         "Digital World",
         "South",
         "Screen Protector",
         "Jane Doe",
         "2023-05-16 00:00:00",
         "26",
         "170.09",
         "0.16",
         "14.14",
         "3714.77",
         "3728.91",
         "Low",
         null
        ],
        [
         "34",
         "ELX-1034",
         "Techmart",
         "North",
         "Bluetooth Speaker",
         "Mike Davis",
         "2023-10-16 00:00:00",
         "7",
         "101.81",
         "0.05",
         "10.3",
         "677.04",
         "687.34",
         "Medium",
         null
        ],
        [
         "35",
         "ELX-1035",
         "Digital World",
         "North",
         "Apple Watch Series 9",
         "Bob Wilson",
         "2023-05-26 00:00:00",
         "11",
         "534.25",
         "0.14",
         "11.05",
         "5054.01",
         "5065.06",
         "High",
         null
        ],
        [
         "36",
         "ELX-1036",
         "Smart Store",
         "North",
         "Phone Holder",
         "Bob Wilson",
         "2023-12-06 00:00:00",
         "7",
         "1127.63",
         "0.03",
         "7.31",
         "7656.61",
         "7663.92",
         "Low",
         null
        ],
        [
         "37",
         "ELX-1037",
         "Techmart",
         "Central",
         "iPad Air",
         "Bob Wilson",
         "2023-05-25 00:00:00",
         "39",
         "264.6",
         "0.09",
         "18.75",
         "9390.65",
         "9409.4",
         "Medium",
         null
        ],
        [
         "38",
         "ELX-1038",
         "Digital World",
         "Central",
         "Gaming Headset",
         "Bob Wilson",
         "2023-01-27 00:00:00",
         "6",
         "766.63",
         "0.21",
         "5.88",
         "3633.83",
         "3639.71",
         "Medium",
         null
        ],
        [
         "39",
         "ELX-1039",
         "Digital World",
         "South",
         "Fitbit Charge 6",
         "Jane Doe",
         "2023-08-15 00:00:00",
         "36",
         "851.22",
         "0.14",
         "7.24",
         "26353.77",
         "26361.01",
         "Medium",
         null
        ],
        [
         "40",
         "ELX-1040",
         "Electronics Plus",
         "Central",
         "Samsung Galaxy S24",
         "Bob Wilson",
         "2023-10-26 00:00:00",
         "36",
         "190.49",
         "0.03",
         "11.17",
         "6651.91",
         "6663.08",
         "High",
         null
        ],
        [
         "41",
         "ELX-1041",
         "Techmart",
         "East",
         "Sony WH-1000XM5",
         "Jane Doe",
         "2023-12-08 00:00:00",
         "7",
         "434.11",
         "0.14",
         "22.49",
         "2613.34",
         "2635.83",
         "Medium",
         null
        ],
        [
         "42",
         "ELX-1042",
         "Smart Store",
         "South",
         "Apple Watch Series 9",
         "Jane Doe",
         "2023-04-01 00:00:00",
         "27",
         "44.37",
         "0.18",
         "11.64",
         "982.35",
         "993.99",
         "Low",
         null
        ],
        [
         "43",
         "ELX-1043",
         "Gadgethub",
         "South",
         "Fitbit Charge 6",
         "Jane Doe",
         "2023-12-26 00:00:00",
         "7",
         "468.31",
         "0.01",
         "14.41",
         "3245.39",
         "3259.8",
         "High",
         null
        ],
        [
         "44",
         "ELX-1044",
         "Electronics Plus",
         "West",
         "Wireless-Charger",
         "Bob Wilson",
         "2023-04-27 00:00:00",
         "15",
         "43.04",
         "0.05",
         "11.57",
         "613.32",
         "624.89",
         "Medium",
         null
        ],
        [
         "45",
         "ELX-1045",
         "Techmart",
         "East",
         "Wireless Charger",
         "Mike Davis",
         "2023-07-24 00:00:00",
         "44",
         "1177.66",
         "0.13",
         "23.78",
         "45080.82",
         "45104.6",
         "Medium",
         null
        ],
        [
         "46",
         "ELX-1046",
         "Techmart",
         "East",
         "AirPods Pro",
         "Mike Davis",
         "2023-05-16 00:00:00",
         "3",
         "143.46",
         "0.11",
         "19.57",
         "383.04",
         "402.61",
         "High",
         null
        ],
        [
         "47",
         "ELX-1047",
         "Digital World",
         "West",
         "Laptop Stand",
         "John Smith",
         "2023-07-17 00:00:00",
         "37",
         "240.24",
         null,
         "13.72",
         "8799.99",
         "8813.71",
         "Low",
         null
        ],
        [
         "48",
         "ELX-1048",
         "Smart Store",
         "Central",
         "Sony WH-1000XM5",
         "Bob Wilson",
         "2023-08-09 00:00:00",
         "5",
         "1139.42",
         "0.23",
         "17.46",
         "4386.77",
         "4404.23",
         "Medium",
         null
        ],
        [
         "49",
         "ELX-1049",
         "Techmart",
         "East",
         "Laptop Stand",
         "Bob Wilson",
         "2023-12-08 00:00:00",
         "27",
         "401.53",
         "0.17",
         "16.09",
         "8998.29",
         "9014.38",
         "Low",
         null
        ],
        [
         "50",
         "ELX-1050",
         "Electronics Plus",
         "West",
         "USB-C Cable",
         "Jane Doe",
         "2023-11-12 00:00:00",
         "37",
         "371.63",
         "0.14",
         "5.01",
         "11825.27",
         "11830.28",
         "Medium",
         null
        ],
        [
         "51",
         "ELX-1051",
         "Digital World",
         "South",
         "Power Bank",
         "Mike Davis",
         "2023-11-07 00:00:00",
         "42",
         "396.87",
         "0.11",
         "18.51",
         "14835.0",
         "14853.51",
         "Medium",
         null
        ],
        [
         "52",
         "ELX-1052",
         "Smart Store",
         "West",
         "AirPods Pro",
         "John Smith",
         "2023-05-26 00:00:00",
         "33",
         "801.67",
         "0.15",
         "6.87",
         "22486.84",
         "22493.71",
         "High",
         null
        ],
        [
         "53",
         "ELX-1053",
         "Electronics Plus",
         "East",
         "Apple Watch Series 9",
         "Jane Doe",
         "2023-03-17 00:00:00",
         "2",
         "69.76",
         "0.25",
         "17.23",
         "104.64",
         "121.87",
         null,
         null
        ],
        [
         "54",
         "ELX-1054",
         "Techmart",
         "West",
         "Power Bank",
         "Mike Davis",
         "2023-04-10 00:00:00",
         "46",
         "840.18",
         "0.12",
         "9.88",
         "34010.49",
         "34020.37",
         null,
         null
        ],
        [
         "55",
         "ELX-1055",
         "Techmart",
         "North",
         "Power Bank",
         "Jane Doe",
         "2023-04-01 00:00:00",
         "45",
         "628.78",
         "0.01",
         "9.98",
         "28012.15",
         "28022.13",
         "Medium",
         null
        ],
        [
         "56",
         "ELX-1056",
         "Techmart",
         "West",
         "iPad Air",
         "Alice Brown",
         "2023-12-08 00:00:00",
         "34",
         "1185.65",
         null,
         "24.0",
         "34265.29",
         "34289.29",
         "Low",
         null
        ]
       ],
       "shape": {
        "columns": 14,
        "rows": 1043
       }
      },
      "text/html": [
       "<div>\n",
       "<style scoped>\n",
       "    .dataframe tbody tr th:only-of-type {\n",
       "        vertical-align: middle;\n",
       "    }\n",
       "\n",
       "    .dataframe tbody tr th {\n",
       "        vertical-align: top;\n",
       "    }\n",
       "\n",
       "    .dataframe thead th {\n",
       "        text-align: right;\n",
       "    }\n",
       "</style>\n",
       "<table border=\"1\" class=\"dataframe\">\n",
       "  <thead>\n",
       "    <tr style=\"text-align: right;\">\n",
       "      <th></th>\n",
       "      <th>order_id</th>\n",
       "      <th>customer_name</th>\n",
       "      <th>region</th>\n",
       "      <th>product</th>\n",
       "      <th>sales_rep</th>\n",
       "      <th>order_date</th>\n",
       "      <th>quantity</th>\n",
       "      <th>unit_price</th>\n",
       "      <th>discount</th>\n",
       "      <th>shipping_cost</th>\n",
       "      <th>revenue</th>\n",
       "      <th>total_cost</th>\n",
       "      <th>priority</th>\n",
       "      <th>sales_rep_email</th>\n",
       "    </tr>\n",
       "  </thead>\n",
       "  <tbody>\n",
       "    <tr>\n",
       "      <th>6</th>\n",
       "      <td>ELX-1006</td>\n",
       "      <td>Techmart</td>\n",
       "      <td>North</td>\n",
       "      <td>Apple Watch Series 9</td>\n",
       "      <td>Bob Wilson</td>\n",
       "      <td>2023-02-10</td>\n",
       "      <td>15</td>\n",
       "      <td>1041.78</td>\n",
       "      <td>0.10</td>\n",
       "      <td>14.07</td>\n",
       "      <td>14064.03</td>\n",
       "      <td>14078.10</td>\n",
       "      <td>Low</td>\n",
       "      <td>NaN</td>\n",
       "    </tr>\n",
       "    <tr>\n",
       "      <th>7</th>\n",
       "      <td>ELX-1007</td>\n",
       "      <td>Digital World</td>\n",
       "      <td>South</td>\n",
       "      <td>Wireless Charger</td>\n",
       "      <td>Bob Wilson</td>\n",
       "      <td>2023-04-18</td>\n",
       "      <td>43</td>\n",
       "      <td>331.37</td>\n",
       "      <td>0.23</td>\n",
       "      <td>17.96</td>\n",
       "      <td>10971.66</td>\n",
       "      <td>10989.62</td>\n",
       "      <td>High</td>\n",
       "      <td>NaN</td>\n",
       "    </tr>\n",
       "    <tr>\n",
       "      <th>8</th>\n",
       "      <td>ELX-1008</td>\n",
       "      <td>Smart Store</td>\n",
       "      <td>South</td>\n",
       "      <td>Phone Holder</td>\n",
       "      <td>Jane Doe</td>\n",
       "      <td>2023-03-25</td>\n",
       "      <td>30</td>\n",
       "      <td>464.65</td>\n",
       "      <td>0.25</td>\n",
       "      <td>17.80</td>\n",
       "      <td>10454.62</td>\n",
       "      <td>10472.42</td>\n",
       "      <td>Medium</td>\n",
       "      <td>NaN</td>\n",
       "    </tr>\n",
       "    <tr>\n",
       "      <th>9</th>\n",
       "      <td>ELX-1009</td>\n",
       "      <td>Smart Store</td>\n",
       "      <td>South</td>\n",
       "      <td>Screen Protector</td>\n",
       "      <td>John Smith</td>\n",
       "      <td>2023-04-28</td>\n",
       "      <td>3</td>\n",
       "      <td>968.98</td>\n",
       "      <td>NaN</td>\n",
       "      <td>6.32</td>\n",
       "      <td>2616.25</td>\n",
       "      <td>2622.57</td>\n",
       "      <td>Medium</td>\n",
       "      <td>NaN</td>\n",
       "    </tr>\n",
       "    <tr>\n",
       "      <th>11</th>\n",
       "      <td>ELX-1011</td>\n",
       "      <td>Smart Store</td>\n",
       "      <td>Central</td>\n",
       "      <td>Fitbit Charge 6</td>\n",
       "      <td>Mike Davis</td>\n",
       "      <td>2023-08-08</td>\n",
       "      <td>38</td>\n",
       "      <td>488.29</td>\n",
       "      <td>0.05</td>\n",
       "      <td>24.95</td>\n",
       "      <td>17627.27</td>\n",
       "      <td>17652.22</td>\n",
       "      <td>High</td>\n",
       "      <td>NaN</td>\n",
       "    </tr>\n",
       "    <tr>\n",
       "      <th>...</th>\n",
       "      <td>...</td>\n",
       "      <td>...</td>\n",
       "      <td>...</td>\n",
       "      <td>...</td>\n",
       "      <td>...</td>\n",
       "      <td>...</td>\n",
       "      <td>...</td>\n",
       "      <td>...</td>\n",
       "      <td>...</td>\n",
       "      <td>...</td>\n",
       "      <td>...</td>\n",
       "      <td>...</td>\n",
       "      <td>...</td>\n",
       "      <td>...</td>\n",
       "    </tr>\n",
       "    <tr>\n",
       "      <th>1045</th>\n",
       "      <td>ELX-1764</td>\n",
       "      <td>Digital World</td>\n",
       "      <td>West</td>\n",
       "      <td>Laptop Stand</td>\n",
       "      <td>Mike Davis</td>\n",
       "      <td>2023-08-16</td>\n",
       "      <td>30</td>\n",
       "      <td>375.34</td>\n",
       "      <td>0.03</td>\n",
       "      <td>20.79</td>\n",
       "      <td>10922.39</td>\n",
       "      <td>10943.18</td>\n",
       "      <td>Low</td>\n",
       "      <td>NaN</td>\n",
       "    </tr>\n",
       "    <tr>\n",
       "      <th>1046</th>\n",
       "      <td>ELX-1511</td>\n",
       "      <td>Digital World</td>\n",
       "      <td>West</td>\n",
       "      <td>Gaming Headset</td>\n",
       "      <td>Mike Davis</td>\n",
       "      <td>2023-01-04</td>\n",
       "      <td>33</td>\n",
       "      <td>1060.21</td>\n",
       "      <td>0.11</td>\n",
       "      <td>9.60</td>\n",
       "      <td>31138.37</td>\n",
       "      <td>31147.97</td>\n",
       "      <td>High</td>\n",
       "      <td>NaN</td>\n",
       "    </tr>\n",
       "    <tr>\n",
       "      <th>1047</th>\n",
       "      <td>ELX-1612</td>\n",
       "      <td>Digital World</td>\n",
       "      <td>South</td>\n",
       "      <td>screen protector</td>\n",
       "      <td>Bob Wilson</td>\n",
       "      <td>2023-11-01</td>\n",
       "      <td>42</td>\n",
       "      <td>43.69</td>\n",
       "      <td>0.08</td>\n",
       "      <td>24.75</td>\n",
       "      <td>1688.18</td>\n",
       "      <td>1712.93</td>\n",
       "      <td>Low</td>\n",
       "      <td>NaN</td>\n",
       "    </tr>\n",
       "    <tr>\n",
       "      <th>1048</th>\n",
       "      <td>ELX-1542</td>\n",
       "      <td>Electronics Plus</td>\n",
       "      <td>South</td>\n",
       "      <td>Sony WH-1000XM5</td>\n",
       "      <td>Jane Doe</td>\n",
       "      <td>2023-11-13</td>\n",
       "      <td>23</td>\n",
       "      <td>199.85</td>\n",
       "      <td>0.03</td>\n",
       "      <td>23.40</td>\n",
       "      <td>4458.65</td>\n",
       "      <td>4482.05</td>\n",
       "      <td>Medium</td>\n",
       "      <td>NaN</td>\n",
       "    </tr>\n",
       "    <tr>\n",
       "      <th>1049</th>\n",
       "      <td>ELX-1806</td>\n",
       "      <td>Electronics Plus</td>\n",
       "      <td>North</td>\n",
       "      <td>Wireless Charger</td>\n",
       "      <td>Jane Doe</td>\n",
       "      <td>2023-06-23</td>\n",
       "      <td>13</td>\n",
       "      <td>720.03</td>\n",
       "      <td>0.25</td>\n",
       "      <td>7.46</td>\n",
       "      <td>7020.29</td>\n",
       "      <td>7027.75</td>\n",
       "      <td>Low</td>\n",
       "      <td>NaN</td>\n",
       "    </tr>\n",
       "  </tbody>\n",
       "</table>\n",
       "<p>1043 rows × 14 columns</p>\n",
       "</div>"
      ],
      "text/plain": [
       "      order_id     customer_name   region               product   sales_rep  \\\n",
       "6     ELX-1006          Techmart    North  Apple Watch Series 9  Bob Wilson   \n",
       "7     ELX-1007     Digital World    South      Wireless Charger  Bob Wilson   \n",
       "8     ELX-1008       Smart Store    South          Phone Holder    Jane Doe   \n",
       "9     ELX-1009       Smart Store    South      Screen Protector  John Smith   \n",
       "11    ELX-1011       Smart Store  Central       Fitbit Charge 6  Mike Davis   \n",
       "...        ...               ...      ...                   ...         ...   \n",
       "1045  ELX-1764     Digital World     West          Laptop Stand  Mike Davis   \n",
       "1046  ELX-1511     Digital World     West        Gaming Headset  Mike Davis   \n",
       "1047  ELX-1612     Digital World    South      screen protector  Bob Wilson   \n",
       "1048  ELX-1542  Electronics Plus    South       Sony WH-1000XM5    Jane Doe   \n",
       "1049  ELX-1806  Electronics Plus    North      Wireless Charger    Jane Doe   \n",
       "\n",
       "     order_date  quantity  unit_price  discount  shipping_cost   revenue  \\\n",
       "6    2023-02-10        15     1041.78      0.10          14.07  14064.03   \n",
       "7    2023-04-18        43      331.37      0.23          17.96  10971.66   \n",
       "8    2023-03-25        30      464.65      0.25          17.80  10454.62   \n",
       "9    2023-04-28         3      968.98       NaN           6.32   2616.25   \n",
       "11   2023-08-08        38      488.29      0.05          24.95  17627.27   \n",
       "...         ...       ...         ...       ...            ...       ...   \n",
       "1045 2023-08-16        30      375.34      0.03          20.79  10922.39   \n",
       "1046 2023-01-04        33     1060.21      0.11           9.60  31138.37   \n",
       "1047 2023-11-01        42       43.69      0.08          24.75   1688.18   \n",
       "1048 2023-11-13        23      199.85      0.03          23.40   4458.65   \n",
       "1049 2023-06-23        13      720.03      0.25           7.46   7020.29   \n",
       "\n",
       "      total_cost priority sales_rep_email  \n",
       "6       14078.10      Low             NaN  \n",
       "7       10989.62     High             NaN  \n",
       "8       10472.42   Medium             NaN  \n",
       "9        2622.57   Medium             NaN  \n",
       "11      17652.22     High             NaN  \n",
       "...          ...      ...             ...  \n",
       "1045    10943.18      Low             NaN  \n",
       "1046    31147.97     High             NaN  \n",
       "1047     1712.93      Low             NaN  \n",
       "1048     4482.05   Medium             NaN  \n",
       "1049     7027.75      Low             NaN  \n",
       "\n",
       "[1043 rows x 14 columns]"
      ]
     },
     "execution_count": 127,
     "metadata": {},
     "output_type": "execute_result"
    }
   ],
   "source": [
    "# Returns rows where sales_rep_email is NULL\n",
    "df[df['sales_rep_email'].isnull()]"
   ]
  },
  {
   "cell_type": "markdown",
   "id": "3057d9bb",
   "metadata": {},
   "source": [
    "The sales_rep_email column contains some null values. To fill them based on matching sales_rep names, we first create a mapping and then converts the filtered DataFrame into a dictionary."
   ]
  },
  {
   "cell_type": "code",
   "execution_count": null,
   "id": "51d398bc",
   "metadata": {},
   "outputs": [],
   "source": [
    "email_map = df[df['sales_rep_email'].notnull()].drop_duplicates('sales_rep')[['sales_rep', 'sales_rep_email']]\n",
    "email_dict = dict(zip(email_map['sales_rep'], email_map['sales_rep_email']))"
   ]
  },
  {
   "cell_type": "code",
   "execution_count": 131,
   "id": "9bfc2f9b",
   "metadata": {},
   "outputs": [
    {
     "data": {
      "application/vnd.microsoft.datawrangler.viewer.v0+json": {
       "columns": [
        {
         "name": "index",
         "rawType": "int64",
         "type": "integer"
        },
        {
         "name": "sales_rep",
         "rawType": "object",
         "type": "string"
        },
        {
         "name": "sales_rep_email",
         "rawType": "object",
         "type": "string"
        }
       ],
       "ref": "09714b10-4d2e-4b8b-a63c-b26a02ca2afa",
       "rows": [
        [
         "0",
         "Jane Doe",
         "janedoe@gmail.com"
        ],
        [
         "1",
         "John Smith",
         "johnsmith@yahoo.com"
        ],
        [
         "3",
         "Bob Wilson",
         "bobwilson@gmail.com"
        ],
        [
         "4",
         "Mike Davis",
         "mikedavis@avc.io"
        ],
        [
         "10",
         "Alice Brown",
         "alice_browny@company.ai"
        ]
       ],
       "shape": {
        "columns": 2,
        "rows": 5
       }
      },
      "text/html": [
       "<div>\n",
       "<style scoped>\n",
       "    .dataframe tbody tr th:only-of-type {\n",
       "        vertical-align: middle;\n",
       "    }\n",
       "\n",
       "    .dataframe tbody tr th {\n",
       "        vertical-align: top;\n",
       "    }\n",
       "\n",
       "    .dataframe thead th {\n",
       "        text-align: right;\n",
       "    }\n",
       "</style>\n",
       "<table border=\"1\" class=\"dataframe\">\n",
       "  <thead>\n",
       "    <tr style=\"text-align: right;\">\n",
       "      <th></th>\n",
       "      <th>sales_rep</th>\n",
       "      <th>sales_rep_email</th>\n",
       "    </tr>\n",
       "  </thead>\n",
       "  <tbody>\n",
       "    <tr>\n",
       "      <th>0</th>\n",
       "      <td>Jane Doe</td>\n",
       "      <td>janedoe@gmail.com</td>\n",
       "    </tr>\n",
       "    <tr>\n",
       "      <th>1</th>\n",
       "      <td>John Smith</td>\n",
       "      <td>johnsmith@yahoo.com</td>\n",
       "    </tr>\n",
       "    <tr>\n",
       "      <th>3</th>\n",
       "      <td>Bob Wilson</td>\n",
       "      <td>bobwilson@gmail.com</td>\n",
       "    </tr>\n",
       "    <tr>\n",
       "      <th>4</th>\n",
       "      <td>Mike Davis</td>\n",
       "      <td>mikedavis@avc.io</td>\n",
       "    </tr>\n",
       "    <tr>\n",
       "      <th>10</th>\n",
       "      <td>Alice Brown</td>\n",
       "      <td>alice_browny@company.ai</td>\n",
       "    </tr>\n",
       "  </tbody>\n",
       "</table>\n",
       "</div>"
      ],
      "text/plain": [
       "      sales_rep          sales_rep_email\n",
       "0      Jane Doe        janedoe@gmail.com\n",
       "1    John Smith      johnsmith@yahoo.com\n",
       "3    Bob Wilson      bobwilson@gmail.com\n",
       "4    Mike Davis         mikedavis@avc.io\n",
       "10  Alice Brown  alice_browny@company.ai"
      ]
     },
     "execution_count": 131,
     "metadata": {},
     "output_type": "execute_result"
    }
   ],
   "source": [
    "email_map"
   ]
  },
  {
   "cell_type": "code",
   "execution_count": 132,
   "id": "0b429c89",
   "metadata": {},
   "outputs": [
    {
     "data": {
      "text/plain": [
       "{'Jane Doe': 'janedoe@gmail.com',\n",
       " 'John Smith': 'johnsmith@yahoo.com',\n",
       " 'Bob Wilson': 'bobwilson@gmail.com',\n",
       " 'Mike Davis': 'mikedavis@avc.io',\n",
       " 'Alice Brown': 'alice_browny@company.ai'}"
      ]
     },
     "execution_count": 132,
     "metadata": {},
     "output_type": "execute_result"
    }
   ],
   "source": [
    "email_dict"
   ]
  },
  {
   "cell_type": "code",
   "execution_count": 133,
   "id": "ed73030f",
   "metadata": {},
   "outputs": [],
   "source": [
    "# Fill missing emails by mapping from sales_rep\n",
    "df['sales_rep_email'] = df['sales_rep_email'].fillna(df['sales_rep'].map(email_dict))"
   ]
  },
  {
   "cell_type": "code",
   "execution_count": null,
   "id": "3291dbd9",
   "metadata": {},
   "outputs": [],
   "source": []
  }
 ],
 "metadata": {
  "kernelspec": {
   "display_name": "Python 3",
   "language": "python",
   "name": "python3"
  },
  "language_info": {
   "codemirror_mode": {
    "name": "ipython",
    "version": 3
   },
   "file_extension": ".py",
   "mimetype": "text/x-python",
   "name": "python",
   "nbconvert_exporter": "python",
   "pygments_lexer": "ipython3",
   "version": "3.11.2"
  }
 },
 "nbformat": 4,
 "nbformat_minor": 5
}

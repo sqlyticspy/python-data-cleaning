{
 "cells": [
  {
   "cell_type": "code",
   "execution_count": 3,
   "id": "f9203067",
   "metadata": {},
   "outputs": [
    {
     "data": {
      "application/vnd.microsoft.datawrangler.viewer.v0+json": {
       "columns": [
        {
         "name": "index",
         "rawType": "int64",
         "type": "integer"
        },
        {
         "name": "order_id",
         "rawType": "object",
         "type": "string"
        },
        {
         "name": "customer_name",
         "rawType": "object",
         "type": "string"
        },
        {
         "name": "region",
         "rawType": "object",
         "type": "string"
        },
        {
         "name": "product",
         "rawType": "object",
         "type": "string"
        },
        {
         "name": "sales_rep",
         "rawType": "object",
         "type": "string"
        },
        {
         "name": "order_date",
         "rawType": "object",
         "type": "string"
        },
        {
         "name": "quantity",
         "rawType": "int64",
         "type": "integer"
        },
        {
         "name": "unit_price",
         "rawType": "float64",
         "type": "float"
        },
        {
         "name": "discount",
         "rawType": "object",
         "type": "string"
        },
        {
         "name": "shipping_cost",
         "rawType": "float64",
         "type": "float"
        },
        {
         "name": "revenue",
         "rawType": "object",
         "type": "string"
        },
        {
         "name": "total_cost",
         "rawType": "float64",
         "type": "float"
        },
        {
         "name": "priority",
         "rawType": "object",
         "type": "string"
        },
        {
         "name": "sales_rep_email",
         "rawType": "object",
         "type": "unknown"
        }
       ],
       "ref": "c0f4a4c0-8d15-44de-b7c2-5627d8c6199b",
       "rows": [
        [
         "0",
         "ELX-1000",
         "TechMart",
         "North",
         "Fitbit Charge 6",
         "Jane Doe",
         "2023-04-25",
         "9",
         "887.72",
         "0.17",
         "22.84",
         "$6,631.27",
         "6654.11",
         "medium",
         "jane.doe@yahoo.com"
        ],
        [
         "1",
         "ELX-1001",
         "TechMart",
         "Central",
         "Power Bank",
         "John Smith",
         "2023-01-16",
         "6",
         "274.09",
         "0.13",
         "5.53",
         "1430.75",
         "1436.28",
         "HIGH",
         "john.smith@business.org"
        ],
        [
         "2",
         "ELX-1002",
         "Electronics Plus",
         "Central",
         "Power Bank",
         "Jane Doe",
         "2023-08-18",
         "38",
         "344.66",
         "0.22",
         "20.18",
         "10215.72",
         "10235.9",
         "High",
         "jane.doe@yahoo.com"
        ],
        [
         "3",
         "ELX-1003",
         "Electronics Plus",
         "West",
         "Screen Protector",
         "Bob Wilson",
         "2023-03-21",
         "14",
         "1149.3",
         "0.08",
         "6.85",
         "14802.98",
         "14809.83",
         "medium",
         "BOB.WILSON@YAHOO.COM"
        ],
        [
         "4",
         "ELX-1004",
         "  TechMart  ",
         "East",
         "Wireless Charger",
         "Mike Davis",
         "2023-05-16",
         "3",
         "879.73",
         "0.13",
         "24.46",
         "2296.1",
         "2320.56",
         "Medium",
         null
        ]
       ],
       "shape": {
        "columns": 14,
        "rows": 5
       }
      },
      "text/html": [
       "<div>\n",
       "<style scoped>\n",
       "    .dataframe tbody tr th:only-of-type {\n",
       "        vertical-align: middle;\n",
       "    }\n",
       "\n",
       "    .dataframe tbody tr th {\n",
       "        vertical-align: top;\n",
       "    }\n",
       "\n",
       "    .dataframe thead th {\n",
       "        text-align: right;\n",
       "    }\n",
       "</style>\n",
       "<table border=\"1\" class=\"dataframe\">\n",
       "  <thead>\n",
       "    <tr style=\"text-align: right;\">\n",
       "      <th></th>\n",
       "      <th>order_id</th>\n",
       "      <th>customer_name</th>\n",
       "      <th>region</th>\n",
       "      <th>product</th>\n",
       "      <th>sales_rep</th>\n",
       "      <th>order_date</th>\n",
       "      <th>quantity</th>\n",
       "      <th>unit_price</th>\n",
       "      <th>discount</th>\n",
       "      <th>shipping_cost</th>\n",
       "      <th>revenue</th>\n",
       "      <th>total_cost</th>\n",
       "      <th>priority</th>\n",
       "      <th>sales_rep_email</th>\n",
       "    </tr>\n",
       "  </thead>\n",
       "  <tbody>\n",
       "    <tr>\n",
       "      <th>0</th>\n",
       "      <td>ELX-1000</td>\n",
       "      <td>TechMart</td>\n",
       "      <td>North</td>\n",
       "      <td>Fitbit Charge 6</td>\n",
       "      <td>Jane Doe</td>\n",
       "      <td>2023-04-25</td>\n",
       "      <td>9</td>\n",
       "      <td>887.72</td>\n",
       "      <td>0.17</td>\n",
       "      <td>22.84</td>\n",
       "      <td>$6,631.27</td>\n",
       "      <td>6654.11</td>\n",
       "      <td>medium</td>\n",
       "      <td>jane.doe@yahoo.com</td>\n",
       "    </tr>\n",
       "    <tr>\n",
       "      <th>1</th>\n",
       "      <td>ELX-1001</td>\n",
       "      <td>TechMart</td>\n",
       "      <td>Central</td>\n",
       "      <td>Power Bank</td>\n",
       "      <td>John Smith</td>\n",
       "      <td>2023-01-16</td>\n",
       "      <td>6</td>\n",
       "      <td>274.09</td>\n",
       "      <td>0.13</td>\n",
       "      <td>5.53</td>\n",
       "      <td>1430.75</td>\n",
       "      <td>1436.28</td>\n",
       "      <td>HIGH</td>\n",
       "      <td>john.smith@business.org</td>\n",
       "    </tr>\n",
       "    <tr>\n",
       "      <th>2</th>\n",
       "      <td>ELX-1002</td>\n",
       "      <td>Electronics Plus</td>\n",
       "      <td>Central</td>\n",
       "      <td>Power Bank</td>\n",
       "      <td>Jane Doe</td>\n",
       "      <td>2023-08-18</td>\n",
       "      <td>38</td>\n",
       "      <td>344.66</td>\n",
       "      <td>0.22</td>\n",
       "      <td>20.18</td>\n",
       "      <td>10215.72</td>\n",
       "      <td>10235.90</td>\n",
       "      <td>High</td>\n",
       "      <td>jane.doe@yahoo.com</td>\n",
       "    </tr>\n",
       "    <tr>\n",
       "      <th>3</th>\n",
       "      <td>ELX-1003</td>\n",
       "      <td>Electronics Plus</td>\n",
       "      <td>West</td>\n",
       "      <td>Screen Protector</td>\n",
       "      <td>Bob Wilson</td>\n",
       "      <td>2023-03-21</td>\n",
       "      <td>14</td>\n",
       "      <td>1149.30</td>\n",
       "      <td>0.08</td>\n",
       "      <td>6.85</td>\n",
       "      <td>14802.98</td>\n",
       "      <td>14809.83</td>\n",
       "      <td>medium</td>\n",
       "      <td>BOB.WILSON@YAHOO.COM</td>\n",
       "    </tr>\n",
       "    <tr>\n",
       "      <th>4</th>\n",
       "      <td>ELX-1004</td>\n",
       "      <td>TechMart</td>\n",
       "      <td>East</td>\n",
       "      <td>Wireless Charger</td>\n",
       "      <td>Mike Davis</td>\n",
       "      <td>2023-05-16</td>\n",
       "      <td>3</td>\n",
       "      <td>879.73</td>\n",
       "      <td>0.13</td>\n",
       "      <td>24.46</td>\n",
       "      <td>2296.1</td>\n",
       "      <td>2320.56</td>\n",
       "      <td>Medium</td>\n",
       "      <td>NaN</td>\n",
       "    </tr>\n",
       "  </tbody>\n",
       "</table>\n",
       "</div>"
      ],
      "text/plain": [
       "   order_id     customer_name   region           product   sales_rep  \\\n",
       "0  ELX-1000          TechMart    North   Fitbit Charge 6    Jane Doe   \n",
       "1  ELX-1001          TechMart  Central        Power Bank  John Smith   \n",
       "2  ELX-1002  Electronics Plus  Central        Power Bank    Jane Doe   \n",
       "3  ELX-1003  Electronics Plus     West  Screen Protector  Bob Wilson   \n",
       "4  ELX-1004        TechMart       East  Wireless Charger  Mike Davis   \n",
       "\n",
       "   order_date  quantity  unit_price discount  shipping_cost    revenue  \\\n",
       "0  2023-04-25         9      887.72     0.17          22.84  $6,631.27   \n",
       "1  2023-01-16         6      274.09     0.13           5.53    1430.75   \n",
       "2  2023-08-18        38      344.66     0.22          20.18   10215.72   \n",
       "3  2023-03-21        14     1149.30     0.08           6.85   14802.98   \n",
       "4  2023-05-16         3      879.73     0.13          24.46     2296.1   \n",
       "\n",
       "   total_cost priority          sales_rep_email  \n",
       "0     6654.11   medium       jane.doe@yahoo.com  \n",
       "1     1436.28     HIGH  john.smith@business.org  \n",
       "2    10235.90     High       jane.doe@yahoo.com  \n",
       "3    14809.83   medium     BOB.WILSON@YAHOO.COM  \n",
       "4     2320.56   Medium                      NaN  "
      ]
     },
     "execution_count": 3,
     "metadata": {},
     "output_type": "execute_result"
    }
   ],
   "source": [
    "import pandas as pd\n",
    "\n",
    "df=pd.read_csv(\"sales_data.csv\")\n",
    "df.head()"
   ]
  },
  {
   "cell_type": "code",
   "execution_count": 4,
   "id": "84f65b0f",
   "metadata": {},
   "outputs": [
    {
     "name": "stdout",
     "output_type": "stream",
     "text": [
      "<class 'pandas.core.frame.DataFrame'>\n",
      "RangeIndex: 1050 entries, 0 to 1049\n",
      "Data columns (total 14 columns):\n",
      " #   Column           Non-Null Count  Dtype  \n",
      "---  ------           --------------  -----  \n",
      " 0   order_id         1050 non-null   object \n",
      " 1   customer_name    1050 non-null   object \n",
      " 2   region           1050 non-null   object \n",
      " 3   product          1050 non-null   object \n",
      " 4   sales_rep        1050 non-null   object \n",
      " 5   order_date       1050 non-null   object \n",
      " 6   quantity         1050 non-null   int64  \n",
      " 7   unit_price       1050 non-null   float64\n",
      " 8   discount         1029 non-null   object \n",
      " 9   shipping_cost    1050 non-null   float64\n",
      " 10  revenue          1016 non-null   object \n",
      " 11  total_cost       1050 non-null   float64\n",
      " 12  priority         918 non-null    object \n",
      " 13  sales_rep_email  899 non-null    object \n",
      "dtypes: float64(3), int64(1), object(10)\n",
      "memory usage: 115.0+ KB\n"
     ]
    }
   ],
   "source": [
    "df.info()"
   ]
  },
  {
   "cell_type": "markdown",
   "id": "596bd158",
   "metadata": {},
   "source": [
    "Looking at the DataFrame info, several columns have incorrect data types that should be converted:\n",
    "Columns that need conversion:\n",
    "\n",
    "*order_date (currently object)* - Should be converted to datetime64 since this represents dates  \n",
    "*discount (currently object)* - Should be converted to float64 since discounts are typically numeric values (percentages or amounts)  \n",
    "*revenue (currently object)* - Should be converted to float64 since revenue is a monetary/numeric value."
   ]
  },
  {
   "cell_type": "markdown",
   "id": "16586e6d",
   "metadata": {},
   "source": [
    "*customer_name*"
   ]
  },
  {
   "cell_type": "code",
   "execution_count": 5,
   "id": "477ccda4",
   "metadata": {},
   "outputs": [
    {
     "data": {
      "text/plain": [
       "array(['TechMart', 'Electronics Plus', '  TechMart  ', 'GadgetHub',\n",
       "       'Digital World', 'Smart Store', '  Smart Store  ',\n",
       "       '  Digital World  ', '  GadgetHub  ', '  Electronics Plus  ',\n",
       "       '    Digital World    ', '    Smart Store    ',\n",
       "       '      Electronics Plus      ', '  Smart Store   Inc.',\n",
       "       '  TechMart   Inc.', 'GadgetHub Inc.', 'Electronics Plus Inc.',\n",
       "       'TechMart Inc.', 'Digital World Inc.', 'Smart Store Inc.',\n",
       "       '  Electronics Plus   Inc.', '  GadgetHub   Inc.'], dtype=object)"
      ]
     },
     "execution_count": 5,
     "metadata": {},
     "output_type": "execute_result"
    }
   ],
   "source": [
    "df.customer_name.unique()"
   ]
  },
  {
   "cell_type": "code",
   "execution_count": 7,
   "id": "c5e701ea",
   "metadata": {},
   "outputs": [],
   "source": [
    "import re\n",
    "\n",
    "df['customer_name'] = (\n",
    "    df['customer_name']\n",
    "    # Remove leading and trailing spaces\n",
    "    .str.strip() \n",
    "\n",
    "    # Replace multiple spaces with a single space\n",
    "    .apply(lambda x: re.sub(r'\\s+', ' ', x))  \n",
    "\n",
    "    # Remove 'Inc.', 'Inc', and variations with trailing spaces\n",
    "    .str.replace(r'\\s*Inc\\.*$', '', regex=True)\n",
    "    \n",
    "    # Convert to title case for consistency \n",
    "    .str.title()  \n",
    ")"
   ]
  },
  {
   "cell_type": "code",
   "execution_count": 9,
   "id": "cc0d12e6",
   "metadata": {},
   "outputs": [
    {
     "data": {
      "text/plain": [
       "array(['Techmart', 'Electronics Plus', 'Gadgethub', 'Digital World',\n",
       "       'Smart Store'], dtype=object)"
      ]
     },
     "execution_count": 9,
     "metadata": {},
     "output_type": "execute_result"
    }
   ],
   "source": [
    "df.customer_name.unique()"
   ]
  },
  {
   "cell_type": "markdown",
   "id": "4391b1fb",
   "metadata": {},
   "source": [
    "*region*"
   ]
  },
  {
   "cell_type": "code",
   "execution_count": 10,
   "id": "04b5f8be",
   "metadata": {},
   "outputs": [
    {
     "data": {
      "text/plain": [
       "array(['North', 'Central', 'West', 'East', 'South', 'west', 'east',\n",
       "       'central', 'NORTH', 'WEST', 'EAST', 'CENTRAL', 'north', 'south',\n",
       "       'SOUTH'], dtype=object)"
      ]
     },
     "execution_count": 10,
     "metadata": {},
     "output_type": "execute_result"
    }
   ],
   "source": [
    "df.region.unique()"
   ]
  },
  {
   "cell_type": "code",
   "execution_count": 11,
   "id": "1b63dc17",
   "metadata": {},
   "outputs": [],
   "source": [
    "df['region']=df.region.str.capitalize()"
   ]
  },
  {
   "cell_type": "code",
   "execution_count": 12,
   "id": "6bf1da7e",
   "metadata": {},
   "outputs": [
    {
     "data": {
      "text/plain": [
       "array(['North', 'Central', 'West', 'East', 'South'], dtype=object)"
      ]
     },
     "execution_count": 12,
     "metadata": {},
     "output_type": "execute_result"
    }
   ],
   "source": [
    "df.region.unique()"
   ]
  },
  {
   "cell_type": "markdown",
   "id": "504f2598",
   "metadata": {},
   "source": [
    "*product*"
   ]
  },
  {
   "cell_type": "code",
   "execution_count": 13,
   "id": "df284ffc",
   "metadata": {},
   "outputs": [
    {
     "data": {
      "application/vnd.microsoft.datawrangler.viewer.v0+json": {
       "columns": [
        {
         "name": "product",
         "rawType": "object",
         "type": "string"
        },
        {
         "name": "count",
         "rawType": "int64",
         "type": "integer"
        }
       ],
       "ref": "3f518aa9-9cbc-49a9-ab3d-70a4754d6ef1",
       "rows": [
        [
         "AIRPODS PRO",
         "2"
        ],
        [
         "AirPods Pro",
         "50"
        ],
        [
         "AirPods-Pro",
         "5"
        ],
        [
         "Apple AirPods Pro",
         "2"
        ],
        [
         "Apple MacBook Pro",
         "1"
        ],
        [
         "Apple Watch Series 9",
         "62"
        ],
        [
         "Apple iPhone 15",
         "5"
        ],
        [
         "Bluetooth Speaker",
         "61"
        ],
        [
         "Dell XPS 13",
         "62"
        ],
        [
         "Fitbit Charge 6",
         "62"
        ],
        [
         "Galaxy S24",
         "2"
        ],
        [
         "Gaming Headset",
         "54"
        ],
        [
         "IPHONE 15",
         "1"
        ],
        [
         "IPHONE CASE",
         "2"
        ],
        [
         "Laptop Stand",
         "68"
        ],
        [
         "MACBOOK PRO",
         "2"
        ],
        [
         "MacBook Pro",
         "43"
        ],
        [
         "MacBook-Pro",
         "1"
        ],
        [
         "Phone Case",
         "1"
        ],
        [
         "Phone Holder",
         "59"
        ],
        [
         "Portable Charger",
         "2"
        ],
        [
         "Power Bank",
         "47"
        ],
        [
         "PowerBank",
         "2"
        ],
        [
         "SAMSUNG GALAXY S24",
         "3"
        ],
        [
         "SCREEN PROTECTOR",
         "1"
        ],
        [
         "Samsung  Galaxy  S24",
         "3"
        ],
        [
         "Samsung Galaxy S24",
         "54"
        ],
        [
         "Screen Protector",
         "46"
        ],
        [
         "Screen-Protector",
         "3"
        ],
        [
         "Sony WH-1000XM5",
         "55"
        ],
        [
         "Type-C Cable",
         "3"
        ],
        [
         "USB C Cable",
         "6"
        ],
        [
         "USB-C Cable",
         "42"
        ],
        [
         "USBC Cable",
         "1"
        ],
        [
         "WIRELESS CHARGER",
         "3"
        ],
        [
         "Wireless Charger",
         "78"
        ],
        [
         "Wireless-Charger",
         "5"
        ],
        [
         "airpods pro",
         "1"
        ],
        [
         "galaxy s24",
         "1"
        ],
        [
         "iPad Air",
         "51"
        ],
        [
         "iPhone 15",
         "41"
        ],
        [
         "iPhone Case",
         "39"
        ],
        [
         "iPhone-15",
         "1"
        ],
        [
         "iPhone-Case",
         "5"
        ],
        [
         "iphone 15",
         "1"
        ],
        [
         "iphone case",
         "1"
        ],
        [
         "macbook pro",
         "2"
        ],
        [
         "power bank",
         "2"
        ],
        [
         "screen protector",
         "2"
        ],
        [
         "usb-c cable",
         "2"
        ]
       ],
       "shape": {
        "columns": 1,
        "rows": 51
       }
      },
      "text/plain": [
       "product\n",
       "AIRPODS PRO              2\n",
       "AirPods Pro             50\n",
       "AirPods-Pro              5\n",
       "Apple AirPods Pro        2\n",
       "Apple MacBook Pro        1\n",
       "Apple Watch Series 9    62\n",
       "Apple iPhone 15          5\n",
       "Bluetooth Speaker       61\n",
       "Dell XPS 13             62\n",
       "Fitbit Charge 6         62\n",
       "Galaxy S24               2\n",
       "Gaming Headset          54\n",
       "IPHONE 15                1\n",
       "IPHONE CASE              2\n",
       "Laptop Stand            68\n",
       "MACBOOK PRO              2\n",
       "MacBook Pro             43\n",
       "MacBook-Pro              1\n",
       "Phone Case               1\n",
       "Phone Holder            59\n",
       "Portable Charger         2\n",
       "Power Bank              47\n",
       "PowerBank                2\n",
       "SAMSUNG GALAXY S24       3\n",
       "SCREEN PROTECTOR         1\n",
       "Samsung  Galaxy  S24     3\n",
       "Samsung Galaxy S24      54\n",
       "Screen Protector        46\n",
       "Screen-Protector         3\n",
       "Sony WH-1000XM5         55\n",
       "Type-C Cable             3\n",
       "USB C Cable              6\n",
       "USB-C Cable             42\n",
       "USBC Cable               1\n",
       "WIRELESS CHARGER         3\n",
       "Wireless Charger        78\n",
       "Wireless-Charger         5\n",
       "airpods pro              1\n",
       "galaxy s24               1\n",
       "iPad Air                51\n",
       "iPhone 15               41\n",
       "iPhone Case             39\n",
       "iPhone-15                1\n",
       "iPhone-Case              5\n",
       "iphone 15                1\n",
       "iphone case              1\n",
       "macbook pro              2\n",
       "power bank               2\n",
       "screen protector         2\n",
       "usb-c cable              2\n",
       "wireless charger         2\n",
       "Name: count, dtype: int64"
      ]
     },
     "execution_count": 13,
     "metadata": {},
     "output_type": "execute_result"
    }
   ],
   "source": [
    "df['product'].value_counts().sort_index()"
   ]
  },
  {
   "cell_type": "markdown",
   "id": "23562f50",
   "metadata": {},
   "source": [
    "*order_date*"
   ]
  },
  {
   "cell_type": "code",
   "execution_count": 14,
   "id": "70bdb86d",
   "metadata": {},
   "outputs": [],
   "source": [
    "# Convert order_date to datetime\n",
    "df['order_date'] = pd.to_datetime(df['order_date'])"
   ]
  },
  {
   "cell_type": "markdown",
   "id": "99b28711",
   "metadata": {},
   "source": [
    "*discount*"
   ]
  },
  {
   "cell_type": "code",
   "execution_count": 15,
   "id": "81586d82",
   "metadata": {},
   "outputs": [
    {
     "data": {
      "application/vnd.microsoft.datawrangler.viewer.v0+json": {
       "columns": [
        {
         "name": "index",
         "rawType": "int64",
         "type": "integer"
        },
        {
         "name": "discount",
         "rawType": "object",
         "type": "unknown"
        }
       ],
       "ref": "5aa290bc-c1e7-42f7-95c8-e1af6f772d8e",
       "rows": [
        [
         "0",
         "0.17"
        ],
        [
         "1",
         "0.13"
        ],
        [
         "2",
         "0.22"
        ],
        [
         "3",
         "0.08"
        ],
        [
         "4",
         "0.13"
        ],
        [
         "5",
         "0.09"
        ],
        [
         "6",
         "0.1"
        ],
        [
         "7",
         "0.23"
        ],
        [
         "8",
         "0.25"
        ],
        [
         "9",
         null
        ],
        [
         "10",
         "0.07"
        ],
        [
         "11",
         "0.05"
        ],
        [
         "12",
         "0.2"
        ],
        [
         "13",
         "0.14"
        ],
        [
         "14",
         "0.11"
        ],
        [
         "15",
         "0.16"
        ],
        [
         "16",
         "0.12"
        ],
        [
         "17",
         "0.02"
        ],
        [
         "18",
         "0.04"
        ],
        [
         "19",
         "0.1"
        ],
        [
         "20",
         "0.08"
        ],
        [
         "21",
         "0.06"
        ],
        [
         "22",
         "0.13"
        ],
        [
         "23",
         "0.02"
        ],
        [
         "24",
         "0.02"
        ],
        [
         "25",
         "0.11"
        ],
        [
         "26",
         "0.14"
        ],
        [
         "27",
         "0.1"
        ],
        [
         "28",
         "0.24"
        ],
        [
         "29",
         "0.14"
        ],
        [
         "30",
         "0.13"
        ],
        [
         "31",
         "0.06"
        ],
        [
         "32",
         "0.14"
        ],
        [
         "33",
         "0.16"
        ],
        [
         "34",
         "0.05"
        ],
        [
         "35",
         "0.14"
        ],
        [
         "36",
         "0.03"
        ],
        [
         "37",
         "0.09"
        ],
        [
         "38",
         "0.21"
        ],
        [
         "39",
         "0.14"
        ],
        [
         "40",
         "0.03"
        ],
        [
         "41",
         "0.14"
        ],
        [
         "42",
         "0.18"
        ],
        [
         "43",
         "0.01"
        ],
        [
         "44",
         "0.05"
        ],
        [
         "45",
         "0.13"
        ],
        [
         "46",
         "0.11"
        ],
        [
         "47",
         null
        ],
        [
         "48",
         "0.23"
        ],
        [
         "49",
         "0.17"
        ]
       ],
       "shape": {
        "columns": 1,
        "rows": 1050
       }
      },
      "text/plain": [
       "0       0.17\n",
       "1       0.13\n",
       "2       0.22\n",
       "3       0.08\n",
       "4       0.13\n",
       "        ... \n",
       "1045    0.03\n",
       "1046    0.11\n",
       "1047    0.08\n",
       "1048    0.03\n",
       "1049    0.25\n",
       "Name: discount, Length: 1050, dtype: object"
      ]
     },
     "execution_count": 15,
     "metadata": {},
     "output_type": "execute_result"
    }
   ],
   "source": [
    "df.discount"
   ]
  },
  {
   "cell_type": "code",
   "execution_count": 16,
   "id": "4b38720a",
   "metadata": {},
   "outputs": [],
   "source": [
    "# Convert discount to float\n",
    "df['discount'] = pd.to_numeric(df['discount'], errors='coerce')"
   ]
  },
  {
   "cell_type": "markdown",
   "id": "384275a6",
   "metadata": {},
   "source": [
    "*revenue*"
   ]
  },
  {
   "cell_type": "code",
   "execution_count": 17,
   "id": "15e5061e",
   "metadata": {},
   "outputs": [
    {
     "data": {
      "application/vnd.microsoft.datawrangler.viewer.v0+json": {
       "columns": [
        {
         "name": "index",
         "rawType": "int64",
         "type": "integer"
        },
        {
         "name": "revenue",
         "rawType": "object",
         "type": "unknown"
        }
       ],
       "ref": "f1b77344-1d90-4ea6-91fc-be32947952e8",
       "rows": [
        [
         "0",
         "$6,631.27"
        ],
        [
         "1",
         "1430.75"
        ],
        [
         "2",
         "10215.72"
        ],
        [
         "3",
         "14802.98"
        ],
        [
         "4",
         "2296.1"
        ],
        [
         "5",
         "$38,739.06"
        ],
        [
         "6",
         "14064.03"
        ],
        [
         "7",
         "10971.66"
        ],
        [
         "8",
         "10454.62"
        ],
        [
         "9",
         "2616.25"
        ],
        [
         "10",
         "21824.38"
        ],
        [
         "11",
         "17627.27"
        ],
        [
         "12",
         "6068.16"
        ],
        [
         "13",
         "9150.07"
        ],
        [
         "14",
         "8965.68"
        ],
        [
         "15",
         "12696.65"
        ],
        [
         "16",
         "637.78"
        ],
        [
         "17",
         "41232.7"
        ],
        [
         "18",
         "33837.72"
        ],
        [
         "19",
         "10060.13"
        ],
        [
         "20",
         "4140.29"
        ],
        [
         "21",
         "32986.07"
        ],
        [
         "22",
         "22080.13"
        ],
        [
         "23",
         "6367.33"
        ],
        [
         "24",
         "48619.84"
        ],
        [
         "25",
         "17026.9"
        ],
        [
         "26",
         "2710.0"
        ],
        [
         "27",
         "7485.29"
        ],
        [
         "28",
         "7454.79"
        ],
        [
         "29",
         "14001.56"
        ],
        [
         "30",
         "31709.33"
        ],
        [
         "31",
         "3831.11"
        ],
        [
         "32",
         "18436.45"
        ],
        [
         "33",
         "3714.77"
        ],
        [
         "34",
         "677.04"
        ],
        [
         "35",
         "$5,054.01"
        ],
        [
         "36",
         "7656.61"
        ],
        [
         "37",
         "$9,390.65"
        ],
        [
         "38",
         "3633.83"
        ],
        [
         "39",
         "26353.77"
        ],
        [
         "40",
         "$6,651.91"
        ],
        [
         "41",
         "2613.34"
        ],
        [
         "42",
         "982.35"
        ],
        [
         "43",
         "3245.39"
        ],
        [
         "44",
         "613.32"
        ],
        [
         "45",
         "$45,080.82"
        ],
        [
         "46",
         "383.04"
        ],
        [
         "47",
         "$8,799.99"
        ],
        [
         "48",
         "4386.77"
        ],
        [
         "49",
         "8998.29"
        ]
       ],
       "shape": {
        "columns": 1,
        "rows": 1050
       }
      },
      "text/plain": [
       "0       $6,631.27\n",
       "1         1430.75\n",
       "2        10215.72\n",
       "3        14802.98\n",
       "4          2296.1\n",
       "          ...    \n",
       "1045     10922.39\n",
       "1046     31138.37\n",
       "1047      1688.18\n",
       "1048      4458.65\n",
       "1049      7020.29\n",
       "Name: revenue, Length: 1050, dtype: object"
      ]
     },
     "execution_count": 17,
     "metadata": {},
     "output_type": "execute_result"
    }
   ],
   "source": [
    "df.revenue"
   ]
  },
  {
   "cell_type": "code",
   "execution_count": 18,
   "id": "d7f241c8",
   "metadata": {},
   "outputs": [],
   "source": [
    "# Remove the leading dollar sign from the 'revenue' values\n",
    "df['revenue'] = df['revenue'].str.lstrip('$')\n",
    "\n",
    "# Remove commas from the 'revenue' values to prepare for numeric conversion\n",
    "df['revenue'] = df['revenue'].str.replace(',', '', regex=False)"
   ]
  },
  {
   "cell_type": "code",
   "execution_count": 20,
   "id": "66b2c73f",
   "metadata": {},
   "outputs": [],
   "source": [
    "# Convert to numeric type\n",
    "df['revenue'] = pd.to_numeric(df['revenue'], errors='coerce')"
   ]
  },
  {
   "cell_type": "markdown",
   "id": "a1f3d206",
   "metadata": {},
   "source": [
    "*priority*"
   ]
  },
  {
   "cell_type": "code",
   "execution_count": 21,
   "id": "30c7a488",
   "metadata": {},
   "outputs": [
    {
     "data": {
      "text/plain": [
       "array(['medium', 'HIGH', 'High', 'Medium', nan, 'Low', 'high', 'low'],\n",
       "      dtype=object)"
      ]
     },
     "execution_count": 21,
     "metadata": {},
     "output_type": "execute_result"
    }
   ],
   "source": [
    "df['priority'].unique()"
   ]
  },
  {
   "cell_type": "code",
   "execution_count": 22,
   "id": "8ecc745b",
   "metadata": {},
   "outputs": [],
   "source": [
    "df.priority=df.priority.str.capitalize()"
   ]
  },
  {
   "cell_type": "code",
   "execution_count": 23,
   "id": "7a012b90",
   "metadata": {},
   "outputs": [],
   "source": [
    "priority_order = ['Low', 'Medium', 'High']\n",
    "\n",
    "df['priority'] = pd.Categorical(\n",
    "    df['priority'],\n",
    "    categories=priority_order,\n",
    "    ordered=True\n",
    ")"
   ]
  },
  {
   "cell_type": "code",
   "execution_count": 24,
   "id": "43d2f74b",
   "metadata": {},
   "outputs": [
    {
     "data": {
      "application/vnd.microsoft.datawrangler.viewer.v0+json": {
       "columns": [
        {
         "name": "index",
         "rawType": "int64",
         "type": "integer"
        },
        {
         "name": "priority",
         "rawType": "category",
         "type": "unknown"
        }
       ],
       "ref": "9d708f04-fda1-4f4f-a66c-bb124f2ae65e",
       "rows": [
        [
         "1049",
         "Low"
        ],
        [
         "269",
         "Low"
        ],
        [
         "706",
         "Low"
        ],
        [
         "266",
         "Low"
        ],
        [
         "265",
         "Low"
        ],
        [
         "707",
         "Low"
        ],
        [
         "709",
         "Low"
        ],
        [
         "714",
         "Low"
        ],
        [
         "717",
         "Low"
        ],
        [
         "258",
         "Low"
        ],
        [
         "719",
         "Low"
        ],
        [
         "721",
         "Low"
        ],
        [
         "254",
         "Low"
        ],
        [
         "725",
         "Low"
        ],
        [
         "726",
         "Low"
        ],
        [
         "727",
         "Low"
        ],
        [
         "272",
         "Low"
        ],
        [
         "735",
         "Low"
        ],
        [
         "700",
         "Low"
        ],
        [
         "277",
         "Low"
        ],
        [
         "657",
         "Low"
        ],
        [
         "660",
         "Low"
        ],
        [
         "662",
         "Low"
        ],
        [
         "666",
         "Low"
        ],
        [
         "301",
         "Low"
        ],
        [
         "669",
         "Low"
        ],
        [
         "670",
         "Low"
        ],
        [
         "671",
         "Low"
        ],
        [
         "672",
         "Low"
        ],
        [
         "294",
         "Low"
        ],
        [
         "673",
         "Low"
        ],
        [
         "681",
         "Low"
        ],
        [
         "682",
         "Low"
        ],
        [
         "684",
         "Low"
        ],
        [
         "690",
         "Low"
        ],
        [
         "695",
         "Low"
        ],
        [
         "312",
         "Low"
        ],
        [
         "736",
         "Low"
        ],
        [
         "740",
         "Low"
        ],
        [
         "205",
         "Low"
        ],
        [
         "779",
         "Low"
        ],
        [
         "780",
         "Low"
        ],
        [
         "784",
         "Low"
        ],
        [
         "785",
         "Low"
        ],
        [
         "789",
         "Low"
        ],
        [
         "792",
         "Low"
        ],
        [
         "793",
         "Low"
        ],
        [
         "798",
         "Low"
        ],
        [
         "186",
         "Low"
        ],
        [
         "185",
         "Low"
        ]
       ],
       "shape": {
        "columns": 1,
        "rows": 1050
       }
      },
      "text/plain": [
       "1049    Low\n",
       "269     Low\n",
       "706     Low\n",
       "266     Low\n",
       "265     Low\n",
       "       ... \n",
       "1017    NaN\n",
       "1018    NaN\n",
       "1025    NaN\n",
       "1032    NaN\n",
       "1038    NaN\n",
       "Name: priority, Length: 1050, dtype: category\n",
       "Categories (3, object): ['Low' < 'Medium' < 'High']"
      ]
     },
     "execution_count": 24,
     "metadata": {},
     "output_type": "execute_result"
    }
   ],
   "source": [
    "df.priority.sort_values(ascending=True)"
   ]
  },
  {
   "cell_type": "code",
   "execution_count": null,
   "id": "0891444e",
   "metadata": {},
   "outputs": [],
   "source": []
  }
 ],
 "metadata": {
  "kernelspec": {
   "display_name": "Python 3",
   "language": "python",
   "name": "python3"
  },
  "language_info": {
   "codemirror_mode": {
    "name": "ipython",
    "version": 3
   },
   "file_extension": ".py",
   "mimetype": "text/x-python",
   "name": "python",
   "nbconvert_exporter": "python",
   "pygments_lexer": "ipython3",
   "version": "3.11.2"
  }
 },
 "nbformat": 4,
 "nbformat_minor": 5
}

{
 "cells": [
  {
   "cell_type": "code",
   "execution_count": 44,
   "id": "f9203067",
   "metadata": {},
   "outputs": [
    {
     "data": {
      "application/vnd.microsoft.datawrangler.viewer.v0+json": {
       "columns": [
        {
         "name": "index",
         "rawType": "int64",
         "type": "integer"
        },
        {
         "name": "order_id",
         "rawType": "object",
         "type": "string"
        },
        {
         "name": "customer_name",
         "rawType": "object",
         "type": "string"
        },
        {
         "name": "region",
         "rawType": "object",
         "type": "string"
        },
        {
         "name": "product",
         "rawType": "object",
         "type": "string"
        },
        {
         "name": "sales_rep",
         "rawType": "object",
         "type": "string"
        },
        {
         "name": "order_date",
         "rawType": "object",
         "type": "string"
        },
        {
         "name": "quantity",
         "rawType": "int64",
         "type": "integer"
        },
        {
         "name": "unit_price",
         "rawType": "float64",
         "type": "float"
        },
        {
         "name": "discount",
         "rawType": "object",
         "type": "string"
        },
        {
         "name": "shipping_cost",
         "rawType": "float64",
         "type": "float"
        },
        {
         "name": "revenue",
         "rawType": "object",
         "type": "string"
        },
        {
         "name": "total_cost",
         "rawType": "float64",
         "type": "float"
        },
        {
         "name": "priority",
         "rawType": "object",
         "type": "string"
        },
        {
         "name": "sales_rep_email",
         "rawType": "object",
         "type": "unknown"
        }
       ],
       "ref": "aa769b73-2c98-4a6c-98fe-355a416dba62",
       "rows": [
        [
         "0",
         "ELX-1000",
         "TechMart",
         "North",
         "Fitbit Charge 6",
         "Jane Doe",
         "2023-04-25",
         "9",
         "887.72",
         "0.17",
         "22.84",
         "$6,631.27",
         "6654.11",
         "medium",
         "jane.doe@yahoo.com"
        ],
        [
         "1",
         "ELX-1001",
         "TechMart",
         "Central",
         "Power Bank",
         "John Smith",
         "2023-01-16",
         "6",
         "274.09",
         "0.13",
         "5.53",
         "1430.75",
         "1436.28",
         "HIGH",
         "john.smith@business.org"
        ],
        [
         "2",
         "ELX-1002",
         "Electronics Plus",
         "Central",
         "Power Bank",
         "Jane Doe",
         "2023-08-18",
         "38",
         "344.66",
         "0.22",
         "20.18",
         "10215.72",
         "10235.9",
         "High",
         "jane.doe@yahoo.com"
        ],
        [
         "3",
         "ELX-1003",
         "Electronics Plus",
         "West",
         "Screen Protector",
         "Bob Wilson",
         "2023-03-21",
         "14",
         "1149.3",
         "0.08",
         "6.85",
         "14802.98",
         "14809.83",
         "medium",
         "BOB.WILSON@YAHOO.COM"
        ],
        [
         "4",
         "ELX-1004",
         "  TechMart  ",
         "East",
         "Wireless Charger",
         "Mike Davis",
         "2023-05-16",
         "3",
         "879.73",
         "0.13",
         "24.46",
         "2296.1",
         "2320.56",
         "Medium",
         null
        ]
       ],
       "shape": {
        "columns": 14,
        "rows": 5
       }
      },
      "text/html": [
       "<div>\n",
       "<style scoped>\n",
       "    .dataframe tbody tr th:only-of-type {\n",
       "        vertical-align: middle;\n",
       "    }\n",
       "\n",
       "    .dataframe tbody tr th {\n",
       "        vertical-align: top;\n",
       "    }\n",
       "\n",
       "    .dataframe thead th {\n",
       "        text-align: right;\n",
       "    }\n",
       "</style>\n",
       "<table border=\"1\" class=\"dataframe\">\n",
       "  <thead>\n",
       "    <tr style=\"text-align: right;\">\n",
       "      <th></th>\n",
       "      <th>order_id</th>\n",
       "      <th>customer_name</th>\n",
       "      <th>region</th>\n",
       "      <th>product</th>\n",
       "      <th>sales_rep</th>\n",
       "      <th>order_date</th>\n",
       "      <th>quantity</th>\n",
       "      <th>unit_price</th>\n",
       "      <th>discount</th>\n",
       "      <th>shipping_cost</th>\n",
       "      <th>revenue</th>\n",
       "      <th>total_cost</th>\n",
       "      <th>priority</th>\n",
       "      <th>sales_rep_email</th>\n",
       "    </tr>\n",
       "  </thead>\n",
       "  <tbody>\n",
       "    <tr>\n",
       "      <th>0</th>\n",
       "      <td>ELX-1000</td>\n",
       "      <td>TechMart</td>\n",
       "      <td>North</td>\n",
       "      <td>Fitbit Charge 6</td>\n",
       "      <td>Jane Doe</td>\n",
       "      <td>2023-04-25</td>\n",
       "      <td>9</td>\n",
       "      <td>887.72</td>\n",
       "      <td>0.17</td>\n",
       "      <td>22.84</td>\n",
       "      <td>$6,631.27</td>\n",
       "      <td>6654.11</td>\n",
       "      <td>medium</td>\n",
       "      <td>jane.doe@yahoo.com</td>\n",
       "    </tr>\n",
       "    <tr>\n",
       "      <th>1</th>\n",
       "      <td>ELX-1001</td>\n",
       "      <td>TechMart</td>\n",
       "      <td>Central</td>\n",
       "      <td>Power Bank</td>\n",
       "      <td>John Smith</td>\n",
       "      <td>2023-01-16</td>\n",
       "      <td>6</td>\n",
       "      <td>274.09</td>\n",
       "      <td>0.13</td>\n",
       "      <td>5.53</td>\n",
       "      <td>1430.75</td>\n",
       "      <td>1436.28</td>\n",
       "      <td>HIGH</td>\n",
       "      <td>john.smith@business.org</td>\n",
       "    </tr>\n",
       "    <tr>\n",
       "      <th>2</th>\n",
       "      <td>ELX-1002</td>\n",
       "      <td>Electronics Plus</td>\n",
       "      <td>Central</td>\n",
       "      <td>Power Bank</td>\n",
       "      <td>Jane Doe</td>\n",
       "      <td>2023-08-18</td>\n",
       "      <td>38</td>\n",
       "      <td>344.66</td>\n",
       "      <td>0.22</td>\n",
       "      <td>20.18</td>\n",
       "      <td>10215.72</td>\n",
       "      <td>10235.90</td>\n",
       "      <td>High</td>\n",
       "      <td>jane.doe@yahoo.com</td>\n",
       "    </tr>\n",
       "    <tr>\n",
       "      <th>3</th>\n",
       "      <td>ELX-1003</td>\n",
       "      <td>Electronics Plus</td>\n",
       "      <td>West</td>\n",
       "      <td>Screen Protector</td>\n",
       "      <td>Bob Wilson</td>\n",
       "      <td>2023-03-21</td>\n",
       "      <td>14</td>\n",
       "      <td>1149.30</td>\n",
       "      <td>0.08</td>\n",
       "      <td>6.85</td>\n",
       "      <td>14802.98</td>\n",
       "      <td>14809.83</td>\n",
       "      <td>medium</td>\n",
       "      <td>BOB.WILSON@YAHOO.COM</td>\n",
       "    </tr>\n",
       "    <tr>\n",
       "      <th>4</th>\n",
       "      <td>ELX-1004</td>\n",
       "      <td>TechMart</td>\n",
       "      <td>East</td>\n",
       "      <td>Wireless Charger</td>\n",
       "      <td>Mike Davis</td>\n",
       "      <td>2023-05-16</td>\n",
       "      <td>3</td>\n",
       "      <td>879.73</td>\n",
       "      <td>0.13</td>\n",
       "      <td>24.46</td>\n",
       "      <td>2296.1</td>\n",
       "      <td>2320.56</td>\n",
       "      <td>Medium</td>\n",
       "      <td>NaN</td>\n",
       "    </tr>\n",
       "  </tbody>\n",
       "</table>\n",
       "</div>"
      ],
      "text/plain": [
       "   order_id     customer_name   region           product   sales_rep  \\\n",
       "0  ELX-1000          TechMart    North   Fitbit Charge 6    Jane Doe   \n",
       "1  ELX-1001          TechMart  Central        Power Bank  John Smith   \n",
       "2  ELX-1002  Electronics Plus  Central        Power Bank    Jane Doe   \n",
       "3  ELX-1003  Electronics Plus     West  Screen Protector  Bob Wilson   \n",
       "4  ELX-1004        TechMart       East  Wireless Charger  Mike Davis   \n",
       "\n",
       "   order_date  quantity  unit_price discount  shipping_cost    revenue  \\\n",
       "0  2023-04-25         9      887.72     0.17          22.84  $6,631.27   \n",
       "1  2023-01-16         6      274.09     0.13           5.53    1430.75   \n",
       "2  2023-08-18        38      344.66     0.22          20.18   10215.72   \n",
       "3  2023-03-21        14     1149.30     0.08           6.85   14802.98   \n",
       "4  2023-05-16         3      879.73     0.13          24.46     2296.1   \n",
       "\n",
       "   total_cost priority          sales_rep_email  \n",
       "0     6654.11   medium       jane.doe@yahoo.com  \n",
       "1     1436.28     HIGH  john.smith@business.org  \n",
       "2    10235.90     High       jane.doe@yahoo.com  \n",
       "3    14809.83   medium     BOB.WILSON@YAHOO.COM  \n",
       "4     2320.56   Medium                      NaN  "
      ]
     },
     "execution_count": 44,
     "metadata": {},
     "output_type": "execute_result"
    }
   ],
   "source": [
    "import pandas as pd\n",
    "\n",
    "df=pd.read_csv(\"sales_data.csv\")\n",
    "df.head()"
   ]
  },
  {
   "cell_type": "code",
   "execution_count": 45,
   "id": "84f65b0f",
   "metadata": {},
   "outputs": [
    {
     "name": "stdout",
     "output_type": "stream",
     "text": [
      "<class 'pandas.core.frame.DataFrame'>\n",
      "RangeIndex: 1050 entries, 0 to 1049\n",
      "Data columns (total 14 columns):\n",
      " #   Column           Non-Null Count  Dtype  \n",
      "---  ------           --------------  -----  \n",
      " 0   order_id         1050 non-null   object \n",
      " 1   customer_name    1050 non-null   object \n",
      " 2   region           1050 non-null   object \n",
      " 3   product          1050 non-null   object \n",
      " 4   sales_rep        1050 non-null   object \n",
      " 5   order_date       1050 non-null   object \n",
      " 6   quantity         1050 non-null   int64  \n",
      " 7   unit_price       1050 non-null   float64\n",
      " 8   discount         1029 non-null   object \n",
      " 9   shipping_cost    1050 non-null   float64\n",
      " 10  revenue          1016 non-null   object \n",
      " 11  total_cost       1050 non-null   float64\n",
      " 12  priority         918 non-null    object \n",
      " 13  sales_rep_email  899 non-null    object \n",
      "dtypes: float64(3), int64(1), object(10)\n",
      "memory usage: 115.0+ KB\n"
     ]
    }
   ],
   "source": [
    "df.info()"
   ]
  },
  {
   "cell_type": "markdown",
   "id": "596bd158",
   "metadata": {},
   "source": [
    "Looking at the DataFrame info, several columns have incorrect data types that should be converted:\n",
    "Columns that need conversion:\n",
    "\n",
    "*order_date (currently object)* - Should be converted to datetime64 since this represents dates  \n",
    "*discount (currently object)* - Should be converted to float64 since discounts are typically numeric values (percentages or amounts)  \n",
    "*revenue (currently object)* - Should be converted to float64 since revenue is a monetary/numeric value."
   ]
  },
  {
   "cell_type": "markdown",
   "id": "16586e6d",
   "metadata": {},
   "source": [
    "*customer_name*"
   ]
  },
  {
   "cell_type": "code",
   "execution_count": 46,
   "id": "477ccda4",
   "metadata": {},
   "outputs": [
    {
     "data": {
      "text/plain": [
       "array(['TechMart', 'Electronics Plus', '  TechMart  ', 'GadgetHub',\n",
       "       'Digital World', 'Smart Store', '  Smart Store  ',\n",
       "       '  Digital World  ', '  GadgetHub  ', '  Electronics Plus  ',\n",
       "       '    Digital World    ', '    Smart Store    ',\n",
       "       '      Electronics Plus      ', '  Smart Store   Inc.',\n",
       "       '  TechMart   Inc.', 'GadgetHub Inc.', 'Electronics Plus Inc.',\n",
       "       'TechMart Inc.', 'Digital World Inc.', 'Smart Store Inc.',\n",
       "       '  Electronics Plus   Inc.', '  GadgetHub   Inc.'], dtype=object)"
      ]
     },
     "execution_count": 46,
     "metadata": {},
     "output_type": "execute_result"
    }
   ],
   "source": [
    "df.customer_name.unique()"
   ]
  },
  {
   "cell_type": "code",
   "execution_count": 47,
   "id": "c5e701ea",
   "metadata": {},
   "outputs": [],
   "source": [
    "import re\n",
    "\n",
    "df['customer_name'] = (\n",
    "    df['customer_name']\n",
    "    # Remove leading and trailing spaces\n",
    "    .str.strip() \n",
    "\n",
    "    # Replace multiple spaces with a single space\n",
    "    .apply(lambda x: re.sub(r'\\s+', ' ', x))  \n",
    "\n",
    "    # Remove 'Inc.', 'Inc', and variations with trailing spaces\n",
    "    .str.replace(r'\\s*Inc\\.*$', '', regex=True)\n",
    "    \n",
    "    # Convert to title case for consistency \n",
    "    .str.title()  \n",
    ")"
   ]
  },
  {
   "cell_type": "code",
   "execution_count": 48,
   "id": "cc0d12e6",
   "metadata": {},
   "outputs": [
    {
     "data": {
      "text/plain": [
       "array(['Techmart', 'Electronics Plus', 'Gadgethub', 'Digital World',\n",
       "       'Smart Store'], dtype=object)"
      ]
     },
     "execution_count": 48,
     "metadata": {},
     "output_type": "execute_result"
    }
   ],
   "source": [
    "df.customer_name.unique()"
   ]
  },
  {
   "cell_type": "markdown",
   "id": "4391b1fb",
   "metadata": {},
   "source": [
    "*region*"
   ]
  },
  {
   "cell_type": "code",
   "execution_count": 49,
   "id": "04b5f8be",
   "metadata": {},
   "outputs": [
    {
     "data": {
      "text/plain": [
       "array(['North', 'Central', 'West', 'East', 'South', 'west', 'east',\n",
       "       'central', 'NORTH', 'WEST', 'EAST', 'CENTRAL', 'north', 'south',\n",
       "       'SOUTH'], dtype=object)"
      ]
     },
     "execution_count": 49,
     "metadata": {},
     "output_type": "execute_result"
    }
   ],
   "source": [
    "df.region.unique()"
   ]
  },
  {
   "cell_type": "code",
   "execution_count": 50,
   "id": "1b63dc17",
   "metadata": {},
   "outputs": [],
   "source": [
    "df['region']=df.region.str.capitalize()"
   ]
  },
  {
   "cell_type": "code",
   "execution_count": 51,
   "id": "6bf1da7e",
   "metadata": {},
   "outputs": [
    {
     "data": {
      "text/plain": [
       "array(['North', 'Central', 'West', 'East', 'South'], dtype=object)"
      ]
     },
     "execution_count": 51,
     "metadata": {},
     "output_type": "execute_result"
    }
   ],
   "source": [
    "df.region.unique()"
   ]
  },
  {
   "cell_type": "markdown",
   "id": "504f2598",
   "metadata": {},
   "source": [
    "*product*"
   ]
  },
  {
   "cell_type": "code",
   "execution_count": 52,
   "id": "df284ffc",
   "metadata": {},
   "outputs": [
    {
     "data": {
      "application/vnd.microsoft.datawrangler.viewer.v0+json": {
       "columns": [
        {
         "name": "product",
         "rawType": "object",
         "type": "string"
        },
        {
         "name": "count",
         "rawType": "int64",
         "type": "integer"
        }
       ],
       "ref": "31b1f49d-e375-44a3-a557-c822894cf9db",
       "rows": [
        [
         "AIRPODS PRO",
         "2"
        ],
        [
         "AirPods Pro",
         "50"
        ],
        [
         "AirPods-Pro",
         "5"
        ],
        [
         "Apple AirPods Pro",
         "2"
        ],
        [
         "Apple MacBook Pro",
         "1"
        ],
        [
         "Apple Watch Series 9",
         "62"
        ],
        [
         "Apple iPhone 15",
         "5"
        ],
        [
         "Bluetooth Speaker",
         "61"
        ],
        [
         "Dell XPS 13",
         "62"
        ],
        [
         "Fitbit Charge 6",
         "62"
        ],
        [
         "Galaxy S24",
         "2"
        ],
        [
         "Gaming Headset",
         "54"
        ],
        [
         "IPHONE 15",
         "1"
        ],
        [
         "IPHONE CASE",
         "2"
        ],
        [
         "Laptop Stand",
         "68"
        ],
        [
         "MACBOOK PRO",
         "2"
        ],
        [
         "MacBook Pro",
         "43"
        ],
        [
         "MacBook-Pro",
         "1"
        ],
        [
         "Phone Case",
         "1"
        ],
        [
         "Phone Holder",
         "59"
        ],
        [
         "Portable Charger",
         "2"
        ],
        [
         "Power Bank",
         "47"
        ],
        [
         "PowerBank",
         "2"
        ],
        [
         "SAMSUNG GALAXY S24",
         "3"
        ],
        [
         "SCREEN PROTECTOR",
         "1"
        ],
        [
         "Samsung  Galaxy  S24",
         "3"
        ],
        [
         "Samsung Galaxy S24",
         "54"
        ],
        [
         "Screen Protector",
         "46"
        ],
        [
         "Screen-Protector",
         "3"
        ],
        [
         "Sony WH-1000XM5",
         "55"
        ],
        [
         "Type-C Cable",
         "3"
        ],
        [
         "USB C Cable",
         "6"
        ],
        [
         "USB-C Cable",
         "42"
        ],
        [
         "USBC Cable",
         "1"
        ],
        [
         "WIRELESS CHARGER",
         "3"
        ],
        [
         "Wireless Charger",
         "78"
        ],
        [
         "Wireless-Charger",
         "5"
        ],
        [
         "airpods pro",
         "1"
        ],
        [
         "galaxy s24",
         "1"
        ],
        [
         "iPad Air",
         "51"
        ],
        [
         "iPhone 15",
         "41"
        ],
        [
         "iPhone Case",
         "39"
        ],
        [
         "iPhone-15",
         "1"
        ],
        [
         "iPhone-Case",
         "5"
        ],
        [
         "iphone 15",
         "1"
        ],
        [
         "iphone case",
         "1"
        ],
        [
         "macbook pro",
         "2"
        ],
        [
         "power bank",
         "2"
        ],
        [
         "screen protector",
         "2"
        ],
        [
         "usb-c cable",
         "2"
        ]
       ],
       "shape": {
        "columns": 1,
        "rows": 51
       }
      },
      "text/plain": [
       "product\n",
       "AIRPODS PRO              2\n",
       "AirPods Pro             50\n",
       "AirPods-Pro              5\n",
       "Apple AirPods Pro        2\n",
       "Apple MacBook Pro        1\n",
       "Apple Watch Series 9    62\n",
       "Apple iPhone 15          5\n",
       "Bluetooth Speaker       61\n",
       "Dell XPS 13             62\n",
       "Fitbit Charge 6         62\n",
       "Galaxy S24               2\n",
       "Gaming Headset          54\n",
       "IPHONE 15                1\n",
       "IPHONE CASE              2\n",
       "Laptop Stand            68\n",
       "MACBOOK PRO              2\n",
       "MacBook Pro             43\n",
       "MacBook-Pro              1\n",
       "Phone Case               1\n",
       "Phone Holder            59\n",
       "Portable Charger         2\n",
       "Power Bank              47\n",
       "PowerBank                2\n",
       "SAMSUNG GALAXY S24       3\n",
       "SCREEN PROTECTOR         1\n",
       "Samsung  Galaxy  S24     3\n",
       "Samsung Galaxy S24      54\n",
       "Screen Protector        46\n",
       "Screen-Protector         3\n",
       "Sony WH-1000XM5         55\n",
       "Type-C Cable             3\n",
       "USB C Cable              6\n",
       "USB-C Cable             42\n",
       "USBC Cable               1\n",
       "WIRELESS CHARGER         3\n",
       "Wireless Charger        78\n",
       "Wireless-Charger         5\n",
       "airpods pro              1\n",
       "galaxy s24               1\n",
       "iPad Air                51\n",
       "iPhone 15               41\n",
       "iPhone Case             39\n",
       "iPhone-15                1\n",
       "iPhone-Case              5\n",
       "iphone 15                1\n",
       "iphone case              1\n",
       "macbook pro              2\n",
       "power bank               2\n",
       "screen protector         2\n",
       "usb-c cable              2\n",
       "wireless charger         2\n",
       "Name: count, dtype: int64"
      ]
     },
     "execution_count": 52,
     "metadata": {},
     "output_type": "execute_result"
    }
   ],
   "source": [
    "df['product'].value_counts().sort_index()"
   ]
  },
  {
   "cell_type": "markdown",
   "id": "23562f50",
   "metadata": {},
   "source": [
    "*order_date*"
   ]
  },
  {
   "cell_type": "code",
   "execution_count": 53,
   "id": "70bdb86d",
   "metadata": {},
   "outputs": [],
   "source": [
    "# Convert order_date to datetime\n",
    "df['order_date'] = pd.to_datetime(df['order_date'])"
   ]
  },
  {
   "cell_type": "markdown",
   "id": "99b28711",
   "metadata": {},
   "source": [
    "*discount*"
   ]
  },
  {
   "cell_type": "code",
   "execution_count": 54,
   "id": "81586d82",
   "metadata": {},
   "outputs": [
    {
     "data": {
      "application/vnd.microsoft.datawrangler.viewer.v0+json": {
       "columns": [
        {
         "name": "index",
         "rawType": "int64",
         "type": "integer"
        },
        {
         "name": "discount",
         "rawType": "object",
         "type": "unknown"
        }
       ],
       "ref": "94ca6328-4d07-49fe-8e17-55765117a18a",
       "rows": [
        [
         "0",
         "0.17"
        ],
        [
         "1",
         "0.13"
        ],
        [
         "2",
         "0.22"
        ],
        [
         "3",
         "0.08"
        ],
        [
         "4",
         "0.13"
        ],
        [
         "5",
         "0.09"
        ],
        [
         "6",
         "0.1"
        ],
        [
         "7",
         "0.23"
        ],
        [
         "8",
         "0.25"
        ],
        [
         "9",
         null
        ],
        [
         "10",
         "0.07"
        ],
        [
         "11",
         "0.05"
        ],
        [
         "12",
         "0.2"
        ],
        [
         "13",
         "0.14"
        ],
        [
         "14",
         "0.11"
        ],
        [
         "15",
         "0.16"
        ],
        [
         "16",
         "0.12"
        ],
        [
         "17",
         "0.02"
        ],
        [
         "18",
         "0.04"
        ],
        [
         "19",
         "0.1"
        ],
        [
         "20",
         "0.08"
        ],
        [
         "21",
         "0.06"
        ],
        [
         "22",
         "0.13"
        ],
        [
         "23",
         "0.02"
        ],
        [
         "24",
         "0.02"
        ],
        [
         "25",
         "0.11"
        ],
        [
         "26",
         "0.14"
        ],
        [
         "27",
         "0.1"
        ],
        [
         "28",
         "0.24"
        ],
        [
         "29",
         "0.14"
        ],
        [
         "30",
         "0.13"
        ],
        [
         "31",
         "0.06"
        ],
        [
         "32",
         "0.14"
        ],
        [
         "33",
         "0.16"
        ],
        [
         "34",
         "0.05"
        ],
        [
         "35",
         "0.14"
        ],
        [
         "36",
         "0.03"
        ],
        [
         "37",
         "0.09"
        ],
        [
         "38",
         "0.21"
        ],
        [
         "39",
         "0.14"
        ],
        [
         "40",
         "0.03"
        ],
        [
         "41",
         "0.14"
        ],
        [
         "42",
         "0.18"
        ],
        [
         "43",
         "0.01"
        ],
        [
         "44",
         "0.05"
        ],
        [
         "45",
         "0.13"
        ],
        [
         "46",
         "0.11"
        ],
        [
         "47",
         null
        ],
        [
         "48",
         "0.23"
        ],
        [
         "49",
         "0.17"
        ]
       ],
       "shape": {
        "columns": 1,
        "rows": 1050
       }
      },
      "text/plain": [
       "0       0.17\n",
       "1       0.13\n",
       "2       0.22\n",
       "3       0.08\n",
       "4       0.13\n",
       "        ... \n",
       "1045    0.03\n",
       "1046    0.11\n",
       "1047    0.08\n",
       "1048    0.03\n",
       "1049    0.25\n",
       "Name: discount, Length: 1050, dtype: object"
      ]
     },
     "execution_count": 54,
     "metadata": {},
     "output_type": "execute_result"
    }
   ],
   "source": [
    "df.discount"
   ]
  },
  {
   "cell_type": "markdown",
   "id": "d2e1338a",
   "metadata": {},
   "source": [
    "The discount column contains a mix of numeric values like 0.12 and 0.1, along with some nulls and \"-\" as placeholders. Since it's currently stored as an object type (string), which is not appropriate for numeric operations, we'll convert it to a proper numeric type (float)."
   ]
  },
  {
   "cell_type": "code",
   "execution_count": 55,
   "id": "4b38720a",
   "metadata": {},
   "outputs": [],
   "source": [
    "# Convert discount to float\n",
    "df['discount'] = pd.to_numeric(df['discount'], errors='coerce')"
   ]
  },
  {
   "cell_type": "markdown",
   "id": "384275a6",
   "metadata": {},
   "source": [
    "*revenue*"
   ]
  },
  {
   "cell_type": "code",
   "execution_count": 37,
   "id": "15e5061e",
   "metadata": {},
   "outputs": [
    {
     "data": {
      "application/vnd.microsoft.datawrangler.viewer.v0+json": {
       "columns": [
        {
         "name": "index",
         "rawType": "int64",
         "type": "integer"
        },
        {
         "name": "revenue",
         "rawType": "object",
         "type": "unknown"
        }
       ],
       "ref": "e986032d-801b-4b72-aa84-454dcd1b19ea",
       "rows": [
        [
         "0",
         "$6,631.27"
        ],
        [
         "1",
         "1430.75"
        ],
        [
         "2",
         "10215.72"
        ],
        [
         "3",
         "14802.98"
        ],
        [
         "4",
         "2296.1"
        ],
        [
         "5",
         "$38,739.06"
        ],
        [
         "6",
         "14064.03"
        ],
        [
         "7",
         "10971.66"
        ],
        [
         "8",
         "10454.62"
        ],
        [
         "9",
         "2616.25"
        ],
        [
         "10",
         "21824.38"
        ],
        [
         "11",
         "17627.27"
        ],
        [
         "12",
         "6068.16"
        ],
        [
         "13",
         "9150.07"
        ],
        [
         "14",
         "8965.68"
        ],
        [
         "15",
         "12696.65"
        ],
        [
         "16",
         "637.78"
        ],
        [
         "17",
         "41232.7"
        ],
        [
         "18",
         "33837.72"
        ],
        [
         "19",
         "10060.13"
        ],
        [
         "20",
         "4140.29"
        ],
        [
         "21",
         "32986.07"
        ],
        [
         "22",
         "22080.13"
        ],
        [
         "23",
         "6367.33"
        ],
        [
         "24",
         "48619.84"
        ],
        [
         "25",
         "17026.9"
        ],
        [
         "26",
         "2710.0"
        ],
        [
         "27",
         "7485.29"
        ],
        [
         "28",
         "7454.79"
        ],
        [
         "29",
         "14001.56"
        ],
        [
         "30",
         "31709.33"
        ],
        [
         "31",
         "3831.11"
        ],
        [
         "32",
         "18436.45"
        ],
        [
         "33",
         "3714.77"
        ],
        [
         "34",
         "677.04"
        ],
        [
         "35",
         "$5,054.01"
        ],
        [
         "36",
         "7656.61"
        ],
        [
         "37",
         "$9,390.65"
        ],
        [
         "38",
         "3633.83"
        ],
        [
         "39",
         "26353.77"
        ],
        [
         "40",
         "$6,651.91"
        ],
        [
         "41",
         "2613.34"
        ],
        [
         "42",
         "982.35"
        ],
        [
         "43",
         "3245.39"
        ],
        [
         "44",
         "613.32"
        ],
        [
         "45",
         "$45,080.82"
        ],
        [
         "46",
         "383.04"
        ],
        [
         "47",
         "$8,799.99"
        ],
        [
         "48",
         "4386.77"
        ],
        [
         "49",
         "8998.29"
        ]
       ],
       "shape": {
        "columns": 1,
        "rows": 1050
       }
      },
      "text/plain": [
       "0       $6,631.27\n",
       "1         1430.75\n",
       "2        10215.72\n",
       "3        14802.98\n",
       "4          2296.1\n",
       "          ...    \n",
       "1045     10922.39\n",
       "1046     31138.37\n",
       "1047      1688.18\n",
       "1048      4458.65\n",
       "1049      7020.29\n",
       "Name: revenue, Length: 1050, dtype: object"
      ]
     },
     "execution_count": 37,
     "metadata": {},
     "output_type": "execute_result"
    }
   ],
   "source": [
    "df.revenue"
   ]
  },
  {
   "cell_type": "markdown",
   "id": "9385b660",
   "metadata": {},
   "source": [
    "The revenue column is currently of type object and contains values like \"$6,631.27\", which can't be directly converted to numeric due to the dollar sign and comma.\n",
    "\n",
    "So before converting it to a numeric type, we’ll first remove the leading dollar sign  and comma."
   ]
  },
  {
   "cell_type": "code",
   "execution_count": 38,
   "id": "d7f241c8",
   "metadata": {},
   "outputs": [],
   "source": [
    "# Remove the leading dollar sign from the 'revenue' values\n",
    "df['revenue'] = df['revenue'].str.lstrip('$')\n",
    "\n",
    "# Remove commas from the 'revenue' values to prepare for numeric conversion\n",
    "df['revenue'] = df['revenue'].str.replace(',', '', regex=False)"
   ]
  },
  {
   "cell_type": "code",
   "execution_count": 39,
   "id": "66b2c73f",
   "metadata": {},
   "outputs": [],
   "source": [
    "# Convert to numeric type\n",
    "df['revenue'] = pd.to_numeric(df['revenue'], errors='coerce')"
   ]
  },
  {
   "cell_type": "markdown",
   "id": "a1f3d206",
   "metadata": {},
   "source": [
    "*priority*"
   ]
  },
  {
   "cell_type": "code",
   "execution_count": 40,
   "id": "30c7a488",
   "metadata": {},
   "outputs": [
    {
     "data": {
      "text/plain": [
       "array(['medium', 'HIGH', 'High', 'Medium', nan, 'Low', 'high', 'low'],\n",
       "      dtype=object)"
      ]
     },
     "execution_count": 40,
     "metadata": {},
     "output_type": "execute_result"
    }
   ],
   "source": [
    "df['priority'].unique()"
   ]
  },
  {
   "cell_type": "markdown",
   "id": "8048cac7",
   "metadata": {},
   "source": [
    "In the priority column, we have values with inconsistent capitalization.\n",
    "To make the values consistent, we'll standardize the text format, so that all values follow the same casing (e.g., 'High', 'Medium', 'Low')."
   ]
  },
  {
   "cell_type": "code",
   "execution_count": 61,
   "id": "8ecc745b",
   "metadata": {},
   "outputs": [],
   "source": [
    "df.priority=df.priority.str.capitalize()"
   ]
  },
  {
   "cell_type": "markdown",
   "id": "a19230ea",
   "metadata": {},
   "source": [
    "Furthermore, we can convert the priority column into a pandas Categorical data type with a defined order. This helps pandas understand the logical sequence of priorities (i.e., 'Low' < 'Medium' < 'High') for sorting and comparisons."
   ]
  },
  {
   "cell_type": "code",
   "execution_count": 62,
   "id": "7a012b90",
   "metadata": {},
   "outputs": [],
   "source": [
    "priority_order = ['Low', 'Medium', 'High']\n",
    "\n",
    "df['priority'] = pd.Categorical(\n",
    "    df['priority'],\n",
    "    categories=priority_order,\n",
    "    ordered=True\n",
    ")"
   ]
  },
  {
   "cell_type": "code",
   "execution_count": 66,
   "id": "43d336b8",
   "metadata": {},
   "outputs": [
    {
     "data": {
      "application/vnd.microsoft.datawrangler.viewer.v0+json": {
       "columns": [
        {
         "name": "index",
         "rawType": "int64",
         "type": "integer"
        },
        {
         "name": "priority",
         "rawType": "category",
         "type": "unknown"
        }
       ],
       "ref": "dcd93343-4210-4c65-a9b7-e21dffcb5231",
       "rows": [
        [
         "1049",
         "Low"
        ],
        [
         "269",
         "Low"
        ],
        [
         "706",
         "Low"
        ],
        [
         "266",
         "Low"
        ],
        [
         "265",
         "Low"
        ],
        [
         "707",
         "Low"
        ],
        [
         "709",
         "Low"
        ],
        [
         "714",
         "Low"
        ],
        [
         "717",
         "Low"
        ],
        [
         "258",
         "Low"
        ],
        [
         "719",
         "Low"
        ],
        [
         "721",
         "Low"
        ],
        [
         "254",
         "Low"
        ],
        [
         "725",
         "Low"
        ],
        [
         "726",
         "Low"
        ],
        [
         "727",
         "Low"
        ],
        [
         "272",
         "Low"
        ],
        [
         "735",
         "Low"
        ],
        [
         "700",
         "Low"
        ],
        [
         "277",
         "Low"
        ],
        [
         "657",
         "Low"
        ],
        [
         "660",
         "Low"
        ],
        [
         "662",
         "Low"
        ],
        [
         "666",
         "Low"
        ],
        [
         "301",
         "Low"
        ],
        [
         "669",
         "Low"
        ],
        [
         "670",
         "Low"
        ],
        [
         "671",
         "Low"
        ],
        [
         "672",
         "Low"
        ],
        [
         "294",
         "Low"
        ],
        [
         "673",
         "Low"
        ],
        [
         "681",
         "Low"
        ],
        [
         "682",
         "Low"
        ],
        [
         "684",
         "Low"
        ],
        [
         "690",
         "Low"
        ],
        [
         "695",
         "Low"
        ],
        [
         "312",
         "Low"
        ],
        [
         "736",
         "Low"
        ],
        [
         "740",
         "Low"
        ],
        [
         "205",
         "Low"
        ],
        [
         "779",
         "Low"
        ],
        [
         "780",
         "Low"
        ],
        [
         "784",
         "Low"
        ],
        [
         "785",
         "Low"
        ],
        [
         "789",
         "Low"
        ],
        [
         "792",
         "Low"
        ],
        [
         "793",
         "Low"
        ],
        [
         "798",
         "Low"
        ],
        [
         "186",
         "Low"
        ],
        [
         "185",
         "Low"
        ]
       ],
       "shape": {
        "columns": 1,
        "rows": 1050
       }
      },
      "text/plain": [
       "1049    Low\n",
       "269     Low\n",
       "706     Low\n",
       "266     Low\n",
       "265     Low\n",
       "       ... \n",
       "1017    NaN\n",
       "1018    NaN\n",
       "1025    NaN\n",
       "1032    NaN\n",
       "1038    NaN\n",
       "Name: priority, Length: 1050, dtype: category\n",
       "Categories (3, object): ['Low' < 'Medium' < 'High']"
      ]
     },
     "execution_count": 66,
     "metadata": {},
     "output_type": "execute_result"
    }
   ],
   "source": [
    "df.priority.sort_values()"
   ]
  },
  {
   "cell_type": "markdown",
   "id": "84aca764",
   "metadata": {},
   "source": [
    "*sales_rep_email*"
   ]
  },
  {
   "cell_type": "code",
   "execution_count": 77,
   "id": "b8e59e14",
   "metadata": {},
   "outputs": [],
   "source": [
    "# Convert all email addresses in 'sales_rep_email' column to lowercase\n",
    "df['sales_rep_email'] = df.sales_rep_email.str.lower()"
   ]
  },
  {
   "cell_type": "code",
   "execution_count": 81,
   "id": "936e3377",
   "metadata": {},
   "outputs": [
    {
     "data": {
      "application/vnd.microsoft.datawrangler.viewer.v0+json": {
       "columns": [
        {
         "name": "index",
         "rawType": "int64",
         "type": "integer"
        },
        {
         "name": "order_id",
         "rawType": "object",
         "type": "string"
        },
        {
         "name": "customer_name",
         "rawType": "object",
         "type": "string"
        },
        {
         "name": "region",
         "rawType": "object",
         "type": "string"
        },
        {
         "name": "product",
         "rawType": "object",
         "type": "string"
        },
        {
         "name": "sales_rep",
         "rawType": "object",
         "type": "string"
        },
        {
         "name": "order_date",
         "rawType": "datetime64[ns]",
         "type": "datetime"
        },
        {
         "name": "quantity",
         "rawType": "int64",
         "type": "integer"
        },
        {
         "name": "unit_price",
         "rawType": "float64",
         "type": "float"
        },
        {
         "name": "discount",
         "rawType": "float64",
         "type": "float"
        },
        {
         "name": "shipping_cost",
         "rawType": "float64",
         "type": "float"
        },
        {
         "name": "revenue",
         "rawType": "object",
         "type": "unknown"
        },
        {
         "name": "total_cost",
         "rawType": "float64",
         "type": "float"
        },
        {
         "name": "priority",
         "rawType": "category",
         "type": "unknown"
        },
        {
         "name": "sales_rep_email",
         "rawType": "object",
         "type": "unknown"
        }
       ],
       "ref": "7eebe301-75a1-4a6e-88bb-ead07a38873e",
       "rows": [
        [
         "4",
         "ELX-1004",
         "Techmart",
         "East",
         "Wireless Charger",
         "Mike Davis",
         "2023-05-16 00:00:00",
         "3",
         "879.73",
         "0.13",
         "24.46",
         "2296.1",
         "2320.56",
         "Medium",
         null
        ],
        [
         "5",
         "ELX-1005",
         "Gadgethub",
         "North",
         "Phone Holder",
         "Bob Wilson",
         "2023-11-18 00:00:00",
         "40",
         "1064.26",
         "0.09",
         "8.85",
         "$38,739.06",
         "38747.91",
         null,
         null
        ],
        [
         "17",
         "ELX-1017",
         "Digital World",
         "East",
         "Apple Watch Series 9",
         "John Smith",
         "2023-04-05 00:00:00",
         "37",
         "1137.14",
         "0.02",
         "14.72",
         "41232.7",
         "41247.42",
         "Low",
         null
        ],
        [
         "23",
         "ELX-1023",
         "Smart Store",
         "Central",
         "Gaming Headset",
         "Jane Doe",
         "2023-08-31 00:00:00",
         "27",
         "240.64",
         "0.02",
         "13.62",
         "6367.33",
         "6380.95",
         "Low",
         null
        ],
        [
         "32",
         "ELX-1032",
         "Smart Store",
         "South",
         "Samsung  Galaxy  S24",
         "Mike Davis",
         "2023-02-11 00:00:00",
         "27",
         "793.99",
         "0.14",
         "11.33",
         "18436.45",
         "18447.78",
         "Medium",
         null
        ],
        [
         "44",
         "ELX-1044",
         "Electronics Plus",
         "West",
         "Wireless-Charger",
         "Bob Wilson",
         "2023-04-27 00:00:00",
         "15",
         "43.04",
         "0.05",
         "11.57",
         "613.32",
         "624.89",
         "Medium",
         null
        ],
        [
         "57",
         "ELX-1057",
         "Gadgethub",
         "Central",
         "Laptop Stand",
         "Alice Brown",
         "2023-10-08 00:00:00",
         "29",
         "1078.19",
         "0.19",
         "14.49",
         "25326.68",
         "25341.17",
         "High",
         null
        ],
        [
         "72",
         "ELX-1072",
         "Gadgethub",
         "West",
         "Dell XPS 13",
         "Alice Brown",
         "2023-07-05 00:00:00",
         "41",
         "1071.52",
         "0.11",
         "8.06",
         "39099.76",
         "39107.82",
         "High",
         null
        ],
        [
         "83",
         "ELX-1083",
         "Gadgethub",
         "North",
         "iPhone 15",
         "Mike Davis",
         "2023-05-26 00:00:00",
         "31",
         "582.28",
         "0.09",
         "24.31",
         "16426.12",
         "16450.43",
         "High",
         null
        ],
        [
         "84",
         "ELX-1084",
         "Digital World",
         "West",
         "Dell XPS 13",
         "John Smith",
         "2023-07-25 00:00:00",
         "32",
         "102.79",
         "0.16",
         "6.07",
         "2763.0",
         "2769.07",
         null,
         null
        ],
        [
         "85",
         "ELX-1085",
         "Electronics Plus",
         "Central",
         "iPhone Case",
         "John Smith",
         "2023-05-08 00:00:00",
         "8",
         "676.32",
         "0.1",
         "16.92",
         "4869.5",
         "4886.42",
         "Low",
         null
        ],
        [
         "91",
         "ELX-1091",
         "Electronics Plus",
         "North",
         "Samsung Galaxy S24",
         "Jane Doe",
         "2023-07-06 00:00:00",
         "39",
         "902.51",
         "0.14",
         "10.77",
         "30270.19",
         "30280.96",
         "Low",
         null
        ],
        [
         "96",
         "ELX-1096",
         "Electronics Plus",
         "East",
         "Power Bank",
         "Alice Brown",
         "2023-05-28 00:00:00",
         "43",
         "1135.05",
         "0.2",
         "16.0",
         null,
         "39061.72",
         "High",
         null
        ],
        [
         "116",
         "ELX-1116",
         "Digital World",
         "West",
         "iPhone Case",
         "Jane Doe",
         "2023-07-16 00:00:00",
         "31",
         "141.38",
         "0.1",
         "12.18",
         "3944.5",
         "3956.68",
         "Medium",
         null
        ],
        [
         "132",
         "ELX-1132",
         "Electronics Plus",
         "Central",
         "iPhone 15",
         "Bob Wilson",
         "2023-03-16 00:00:00",
         "9",
         "655.16",
         "0.2",
         "7.2",
         "4717.15",
         "4724.35",
         null,
         null
        ],
        [
         "134",
         "ELX-1134",
         "Gadgethub",
         "Central",
         "Dell XPS 13",
         "John Smith",
         "2023-09-01 00:00:00",
         "29",
         "936.95",
         "0.13",
         "7.18",
         "23639.25",
         "23646.43",
         "Low",
         null
        ],
        [
         "136",
         "ELX-1136",
         "Gadgethub",
         "West",
         "Dell XPS 13",
         "Alice Brown",
         "2023-12-31 00:00:00",
         "29",
         "102.09",
         "0.02",
         "17.17",
         "Missing",
         "2918.57",
         null,
         null
        ],
        [
         "138",
         "ELX-1138",
         "Smart Store",
         "East",
         "Bluetooth Speaker",
         "Mike Davis",
         "2023-11-06 00:00:00",
         "28",
         "132.53",
         "0.18",
         "22.06",
         "3042.89",
         "3064.95",
         "Medium",
         null
        ],
        [
         "139",
         "ELX-1139",
         "Smart Store",
         "South",
         "Power Bank",
         "Alice Brown",
         "2023-04-27 00:00:00",
         "27",
         "416.63",
         "0.11",
         "13.32",
         "Missing",
         "10024.94",
         "High",
         null
        ],
        [
         "140",
         "ELX-1140",
         "Techmart",
         "East",
         "Power Bank",
         "Bob Wilson",
         "2023-12-07 00:00:00",
         "17",
         "458.55",
         "0.04",
         "23.46",
         "7483.54",
         "7507.0",
         "Medium",
         null
        ],
        [
         "141",
         "ELX-1141",
         "Techmart",
         "North",
         "MacBook Pro",
         "John Smith",
         "2023-08-10 00:00:00",
         "7",
         "897.34",
         "0.09",
         "7.6",
         "5716.06",
         "5723.66",
         null,
         null
        ],
        [
         "161",
         "ELX-1161",
         "Digital World",
         "North",
         "MacBook Pro",
         "Mike Davis",
         "2023-11-01 00:00:00",
         "33",
         "470.61",
         "0.15",
         "24.08",
         "13200.61",
         "13224.69",
         "High",
         null
        ],
        [
         "162",
         "ELX-1162",
         "Techmart",
         "West",
         "Sony WH-1000XM5",
         "Bob Wilson",
         "2023-11-06 00:00:00",
         "31",
         "609.12",
         "0.24",
         "14.01",
         "14350.87",
         "14364.88",
         "Medium",
         null
        ],
        [
         "166",
         "ELX-1166",
         "Smart Store",
         "South",
         "Screen Protector",
         "John Smith",
         "2023-10-26 00:00:00",
         "43",
         "182.59",
         "0.09",
         "24.35",
         "7144.75",
         "7169.1",
         "Low",
         null
        ],
        [
         "170",
         "ELX-1170",
         "Smart Store",
         "Central",
         "Samsung  Galaxy  S24",
         "Bob Wilson",
         "2023-11-13 00:00:00",
         "9",
         "722.74",
         "0.04",
         "8.62",
         "6244.47",
         "6253.09",
         "High",
         null
        ],
        [
         "184",
         "ELX-1184",
         "Gadgethub",
         "East",
         "Fitbit Charge 6",
         "John Smith",
         "2023-07-02 00:00:00",
         "5",
         "423.59",
         "0.18",
         "17.57",
         "$1,736.72",
         "1754.29",
         "Low",
         null
        ],
        [
         "185",
         "ELX-1185",
         "Smart Store",
         "East",
         "iPad Air",
         "John Smith",
         "2023-06-30 00:00:00",
         "35",
         "416.18",
         "0.16",
         "21.61",
         "$12,235.69",
         "12257.3",
         "Low",
         null
        ],
        [
         "212",
         "ELX-1212",
         "Gadgethub",
         "South",
         "iPad Air",
         "John Smith",
         "2023-01-26 00:00:00",
         "19",
         "1135.28",
         "0.22",
         "13.36",
         "$16,824.85",
         "16838.21",
         "Medium",
         null
        ],
        [
         "226",
         "ELX-1226",
         "Smart Store",
         "West",
         "Samsung Galaxy S24",
         "Jane Doe",
         "2023-09-23 00:00:00",
         "14",
         "679.65",
         "0.25",
         "14.57",
         "7136.33",
         "7150.9",
         "Medium",
         null
        ],
        [
         "230",
         "ELX-1230",
         "Digital World",
         "East",
         "Dell XPS 13",
         "Mike Davis",
         "2023-12-13 00:00:00",
         "35",
         "464.94",
         "0.25",
         "21.37",
         "12204.67",
         "12226.05",
         "Medium",
         null
        ],
        [
         "232",
         "ELX-1232",
         "Electronics Plus",
         "South",
         "Phone Holder",
         "Bob Wilson",
         "2023-10-15 00:00:00",
         "45",
         "336.87",
         "0.03",
         "19.82",
         "14704.38",
         "14724.2",
         "Low",
         null
        ],
        [
         "234",
         "ELX-1234",
         "Gadgethub",
         "North",
         "iPad Air",
         "John Smith",
         "2023-10-09 00:00:00",
         "11",
         "497.19",
         "0.23",
         "22.57",
         "4211.2",
         "4233.77",
         "High",
         null
        ],
        [
         "252",
         "ELX-1252",
         "Gadgethub",
         "East",
         "USB-C Cable",
         "Alice Brown",
         "2023-07-13 00:00:00",
         "25",
         "110.1",
         "0.24",
         "22.49",
         "2091.9",
         "2114.39",
         "High",
         null
        ],
        [
         "270",
         "ELX-1270",
         "Digital World",
         "South",
         "usb-c cable",
         "Mike Davis",
         "2023-05-06 00:00:00",
         "32",
         "667.51",
         "0.24",
         "11.75",
         "16233.84",
         "16245.59",
         "High",
         null
        ],
        [
         "277",
         "ELX-1277",
         "Gadgethub",
         "North",
         "Wireless Charger",
         "Alice Brown",
         "2023-08-24 00:00:00",
         "37",
         "303.2",
         "0.17",
         "11.0",
         null,
         "9322.27",
         "Low",
         null
        ],
        [
         "284",
         "ELX-1284",
         "Techmart",
         "West",
         "Apple Watch Series 9",
         "John Smith",
         "2023-06-24 00:00:00",
         "39",
         "926.27",
         "0.24",
         "12.93",
         "$27,454.64",
         "27467.57",
         "High",
         null
        ],
        [
         "289",
         "ELX-1289",
         "Techmart",
         "North",
         "Wireless Charger",
         "Mike Davis",
         "2023-02-17 00:00:00",
         "39",
         "723.68",
         "0.08",
         "12.7",
         "25965.64",
         "25978.34",
         "Medium",
         null
        ],
        [
         "294",
         "ELX-1294",
         "Gadgethub",
         "East",
         "Power Bank",
         "Mike Davis",
         "2023-03-11 00:00:00",
         "20",
         "394.99",
         "0.24",
         "9.02",
         "6003.85",
         "6012.87",
         "Low",
         null
        ],
        [
         "299",
         "ELX-1299",
         "Gadgethub",
         "North",
         "Bluetooth Speaker",
         "Mike Davis",
         "2023-09-03 00:00:00",
         "38",
         "489.95",
         "0.13",
         "23.41",
         null,
         "16221.16",
         "Medium",
         null
        ],
        [
         "301",
         "ELX-1301",
         "Electronics Plus",
         "East",
         "AIRPODS PRO",
         "Mike Davis",
         "2023-01-23 00:00:00",
         "37",
         "1180.58",
         "0.17",
         "12.99",
         "36255.61",
         "36268.6",
         "Low",
         null
        ],
        [
         "308",
         "ELX-1308",
         "Gadgethub",
         "South",
         "AirPods Pro",
         "Alice Brown",
         "2023-07-22 00:00:00",
         "2",
         "888.81",
         "0.22",
         "13.99",
         "1386.54",
         "1400.53",
         "Medium",
         null
        ],
        [
         "332",
         "ELX-1332",
         "Techmart",
         "South",
         "Gaming Headset",
         "John Smith",
         "2023-03-09 00:00:00",
         "38",
         "283.04",
         "0.17",
         "5.19",
         "8927.08",
         "8932.27",
         "Low",
         null
        ],
        [
         "338",
         "ELX-1338",
         "Smart Store",
         "East",
         "iPhone 15",
         "Bob Wilson",
         "2023-04-16 00:00:00",
         "34",
         "734.21",
         "0.05",
         "12.84",
         "23714.98",
         "23727.82",
         "Low",
         null
        ],
        [
         "362",
         "ELX-1362",
         "Techmart",
         "South",
         "Dell XPS 13",
         "Jane Doe",
         "2023-08-19 00:00:00",
         "30",
         "387.13",
         "0.03",
         "12.17",
         "11265.48",
         "11277.65",
         "High",
         null
        ],
        [
         "363",
         "ELX-1363",
         "Electronics Plus",
         "West",
         "iPhone Case",
         "Alice Brown",
         "2023-05-16 00:00:00",
         "8",
         "122.15",
         "0.2",
         "11.08",
         "781.76",
         "792.84",
         "Medium",
         null
        ],
        [
         "366",
         "ELX-1366",
         "Techmart",
         "West",
         "Dell XPS 13",
         "Jane Doe",
         "2023-03-04 00:00:00",
         "1",
         "88.08",
         "0.2",
         "9.45",
         "70.46",
         "79.91",
         "High",
         null
        ],
        [
         "367",
         "ELX-1367",
         "Electronics Plus",
         "West",
         "Wireless Charger",
         "John Smith",
         "2023-10-26 00:00:00",
         "38",
         "321.7",
         "0.2",
         "5.44",
         "$9,779.68",
         "9785.12",
         null,
         null
        ],
        [
         "368",
         "ELX-1368",
         "Techmart",
         "South",
         "Bluetooth Speaker",
         "Jane Doe",
         "2023-02-17 00:00:00",
         "22",
         "160.2",
         "0.24",
         "6.01",
         "2678.54",
         "2684.55",
         "Medium",
         null
        ],
        [
         "374",
         "ELX-1374",
         "Digital World",
         "North",
         "Gaming Headset",
         "Mike Davis",
         "2023-07-03 00:00:00",
         "50",
         "707.03",
         "0.06",
         "8.19",
         "33230.41",
         "33238.6",
         "Low",
         null
        ],
        [
         "380",
         "ELX-1380",
         "Digital World",
         "North",
         "iPhone 15",
         "Jane Doe",
         "2023-10-28 00:00:00",
         "46",
         "1101.91",
         "0.19",
         "21.93",
         "41057.17",
         "41079.1",
         "Low",
         null
        ]
       ],
       "shape": {
        "columns": 14,
        "rows": 151
       }
      },
      "text/html": [
       "<div>\n",
       "<style scoped>\n",
       "    .dataframe tbody tr th:only-of-type {\n",
       "        vertical-align: middle;\n",
       "    }\n",
       "\n",
       "    .dataframe tbody tr th {\n",
       "        vertical-align: top;\n",
       "    }\n",
       "\n",
       "    .dataframe thead th {\n",
       "        text-align: right;\n",
       "    }\n",
       "</style>\n",
       "<table border=\"1\" class=\"dataframe\">\n",
       "  <thead>\n",
       "    <tr style=\"text-align: right;\">\n",
       "      <th></th>\n",
       "      <th>order_id</th>\n",
       "      <th>customer_name</th>\n",
       "      <th>region</th>\n",
       "      <th>product</th>\n",
       "      <th>sales_rep</th>\n",
       "      <th>order_date</th>\n",
       "      <th>quantity</th>\n",
       "      <th>unit_price</th>\n",
       "      <th>discount</th>\n",
       "      <th>shipping_cost</th>\n",
       "      <th>revenue</th>\n",
       "      <th>total_cost</th>\n",
       "      <th>priority</th>\n",
       "      <th>sales_rep_email</th>\n",
       "    </tr>\n",
       "  </thead>\n",
       "  <tbody>\n",
       "    <tr>\n",
       "      <th>4</th>\n",
       "      <td>ELX-1004</td>\n",
       "      <td>Techmart</td>\n",
       "      <td>East</td>\n",
       "      <td>Wireless Charger</td>\n",
       "      <td>Mike Davis</td>\n",
       "      <td>2023-05-16</td>\n",
       "      <td>3</td>\n",
       "      <td>879.73</td>\n",
       "      <td>0.13</td>\n",
       "      <td>24.46</td>\n",
       "      <td>2296.1</td>\n",
       "      <td>2320.56</td>\n",
       "      <td>Medium</td>\n",
       "      <td>NaN</td>\n",
       "    </tr>\n",
       "    <tr>\n",
       "      <th>5</th>\n",
       "      <td>ELX-1005</td>\n",
       "      <td>Gadgethub</td>\n",
       "      <td>North</td>\n",
       "      <td>Phone Holder</td>\n",
       "      <td>Bob Wilson</td>\n",
       "      <td>2023-11-18</td>\n",
       "      <td>40</td>\n",
       "      <td>1064.26</td>\n",
       "      <td>0.09</td>\n",
       "      <td>8.85</td>\n",
       "      <td>$38,739.06</td>\n",
       "      <td>38747.91</td>\n",
       "      <td>NaN</td>\n",
       "      <td>NaN</td>\n",
       "    </tr>\n",
       "    <tr>\n",
       "      <th>17</th>\n",
       "      <td>ELX-1017</td>\n",
       "      <td>Digital World</td>\n",
       "      <td>East</td>\n",
       "      <td>Apple Watch Series 9</td>\n",
       "      <td>John Smith</td>\n",
       "      <td>2023-04-05</td>\n",
       "      <td>37</td>\n",
       "      <td>1137.14</td>\n",
       "      <td>0.02</td>\n",
       "      <td>14.72</td>\n",
       "      <td>41232.7</td>\n",
       "      <td>41247.42</td>\n",
       "      <td>Low</td>\n",
       "      <td>NaN</td>\n",
       "    </tr>\n",
       "    <tr>\n",
       "      <th>23</th>\n",
       "      <td>ELX-1023</td>\n",
       "      <td>Smart Store</td>\n",
       "      <td>Central</td>\n",
       "      <td>Gaming Headset</td>\n",
       "      <td>Jane Doe</td>\n",
       "      <td>2023-08-31</td>\n",
       "      <td>27</td>\n",
       "      <td>240.64</td>\n",
       "      <td>0.02</td>\n",
       "      <td>13.62</td>\n",
       "      <td>6367.33</td>\n",
       "      <td>6380.95</td>\n",
       "      <td>Low</td>\n",
       "      <td>NaN</td>\n",
       "    </tr>\n",
       "    <tr>\n",
       "      <th>32</th>\n",
       "      <td>ELX-1032</td>\n",
       "      <td>Smart Store</td>\n",
       "      <td>South</td>\n",
       "      <td>Samsung  Galaxy  S24</td>\n",
       "      <td>Mike Davis</td>\n",
       "      <td>2023-02-11</td>\n",
       "      <td>27</td>\n",
       "      <td>793.99</td>\n",
       "      <td>0.14</td>\n",
       "      <td>11.33</td>\n",
       "      <td>18436.45</td>\n",
       "      <td>18447.78</td>\n",
       "      <td>Medium</td>\n",
       "      <td>NaN</td>\n",
       "    </tr>\n",
       "    <tr>\n",
       "      <th>...</th>\n",
       "      <td>...</td>\n",
       "      <td>...</td>\n",
       "      <td>...</td>\n",
       "      <td>...</td>\n",
       "      <td>...</td>\n",
       "      <td>...</td>\n",
       "      <td>...</td>\n",
       "      <td>...</td>\n",
       "      <td>...</td>\n",
       "      <td>...</td>\n",
       "      <td>...</td>\n",
       "      <td>...</td>\n",
       "      <td>...</td>\n",
       "      <td>...</td>\n",
       "    </tr>\n",
       "    <tr>\n",
       "      <th>1026</th>\n",
       "      <td>ELX-1775</td>\n",
       "      <td>Techmart</td>\n",
       "      <td>East</td>\n",
       "      <td>USB-C Cable</td>\n",
       "      <td>Jane Doe</td>\n",
       "      <td>2023-08-07</td>\n",
       "      <td>24</td>\n",
       "      <td>472.54</td>\n",
       "      <td>0.00</td>\n",
       "      <td>11.90</td>\n",
       "      <td>11340.96</td>\n",
       "      <td>11352.86</td>\n",
       "      <td>High</td>\n",
       "      <td>NaN</td>\n",
       "    </tr>\n",
       "    <tr>\n",
       "      <th>1032</th>\n",
       "      <td>ELX-1832</td>\n",
       "      <td>Electronics Plus</td>\n",
       "      <td>North</td>\n",
       "      <td>Fitbit Charge 6</td>\n",
       "      <td>Bob Wilson</td>\n",
       "      <td>2023-12-04</td>\n",
       "      <td>36</td>\n",
       "      <td>223.54</td>\n",
       "      <td>0.21</td>\n",
       "      <td>24.28</td>\n",
       "      <td>6357.48</td>\n",
       "      <td>6381.76</td>\n",
       "      <td>NaN</td>\n",
       "      <td>NaN</td>\n",
       "    </tr>\n",
       "    <tr>\n",
       "      <th>1036</th>\n",
       "      <td>ELX-1021</td>\n",
       "      <td>Electronics Plus</td>\n",
       "      <td>Central</td>\n",
       "      <td>Apple Watch Series 9</td>\n",
       "      <td>John Smith</td>\n",
       "      <td>2023-02-06</td>\n",
       "      <td>46</td>\n",
       "      <td>762.86</td>\n",
       "      <td>0.06</td>\n",
       "      <td>23.11</td>\n",
       "      <td>32986.07</td>\n",
       "      <td>33009.18</td>\n",
       "      <td>High</td>\n",
       "      <td>NaN</td>\n",
       "    </tr>\n",
       "    <tr>\n",
       "      <th>1039</th>\n",
       "      <td>ELX-1014</td>\n",
       "      <td>Techmart</td>\n",
       "      <td>Central</td>\n",
       "      <td>Fitbit Charge 6</td>\n",
       "      <td>Bob Wilson</td>\n",
       "      <td>2023-02-27</td>\n",
       "      <td>19</td>\n",
       "      <td>530.20</td>\n",
       "      <td>0.11</td>\n",
       "      <td>24.08</td>\n",
       "      <td>8965.68</td>\n",
       "      <td>8989.76</td>\n",
       "      <td>High</td>\n",
       "      <td>NaN</td>\n",
       "    </tr>\n",
       "    <tr>\n",
       "      <th>1042</th>\n",
       "      <td>ELX-1153</td>\n",
       "      <td>Digital World</td>\n",
       "      <td>North</td>\n",
       "      <td>USB-C Cable</td>\n",
       "      <td>John Smith</td>\n",
       "      <td>2023-08-12</td>\n",
       "      <td>2</td>\n",
       "      <td>559.81</td>\n",
       "      <td>0.02</td>\n",
       "      <td>11.26</td>\n",
       "      <td>1097.23</td>\n",
       "      <td>1108.49</td>\n",
       "      <td>Low</td>\n",
       "      <td>NaN</td>\n",
       "    </tr>\n",
       "  </tbody>\n",
       "</table>\n",
       "<p>151 rows × 14 columns</p>\n",
       "</div>"
      ],
      "text/plain": [
       "      order_id     customer_name   region               product   sales_rep  \\\n",
       "4     ELX-1004          Techmart     East      Wireless Charger  Mike Davis   \n",
       "5     ELX-1005         Gadgethub    North          Phone Holder  Bob Wilson   \n",
       "17    ELX-1017     Digital World     East  Apple Watch Series 9  John Smith   \n",
       "23    ELX-1023       Smart Store  Central        Gaming Headset    Jane Doe   \n",
       "32    ELX-1032       Smart Store    South  Samsung  Galaxy  S24  Mike Davis   \n",
       "...        ...               ...      ...                   ...         ...   \n",
       "1026  ELX-1775          Techmart     East           USB-C Cable    Jane Doe   \n",
       "1032  ELX-1832  Electronics Plus    North       Fitbit Charge 6  Bob Wilson   \n",
       "1036  ELX-1021  Electronics Plus  Central  Apple Watch Series 9  John Smith   \n",
       "1039  ELX-1014          Techmart  Central       Fitbit Charge 6  Bob Wilson   \n",
       "1042  ELX-1153     Digital World    North           USB-C Cable  John Smith   \n",
       "\n",
       "     order_date  quantity  unit_price  discount  shipping_cost     revenue  \\\n",
       "4    2023-05-16         3      879.73      0.13          24.46      2296.1   \n",
       "5    2023-11-18        40     1064.26      0.09           8.85  $38,739.06   \n",
       "17   2023-04-05        37     1137.14      0.02          14.72     41232.7   \n",
       "23   2023-08-31        27      240.64      0.02          13.62     6367.33   \n",
       "32   2023-02-11        27      793.99      0.14          11.33    18436.45   \n",
       "...         ...       ...         ...       ...            ...         ...   \n",
       "1026 2023-08-07        24      472.54      0.00          11.90    11340.96   \n",
       "1032 2023-12-04        36      223.54      0.21          24.28     6357.48   \n",
       "1036 2023-02-06        46      762.86      0.06          23.11    32986.07   \n",
       "1039 2023-02-27        19      530.20      0.11          24.08     8965.68   \n",
       "1042 2023-08-12         2      559.81      0.02          11.26     1097.23   \n",
       "\n",
       "      total_cost priority sales_rep_email  \n",
       "4        2320.56   Medium             NaN  \n",
       "5       38747.91      NaN             NaN  \n",
       "17      41247.42      Low             NaN  \n",
       "23       6380.95      Low             NaN  \n",
       "32      18447.78   Medium             NaN  \n",
       "...          ...      ...             ...  \n",
       "1026    11352.86     High             NaN  \n",
       "1032     6381.76      NaN             NaN  \n",
       "1036    33009.18     High             NaN  \n",
       "1039     8989.76     High             NaN  \n",
       "1042     1108.49      Low             NaN  \n",
       "\n",
       "[151 rows x 14 columns]"
      ]
     },
     "execution_count": 81,
     "metadata": {},
     "output_type": "execute_result"
    }
   ],
   "source": [
    "# Returns rows where sales_rep_email is NULL\n",
    "df[df['sales_rep_email'].isnull()]"
   ]
  },
  {
   "cell_type": "code",
   "execution_count": null,
   "id": "51d398bc",
   "metadata": {},
   "outputs": [],
   "source": []
  }
 ],
 "metadata": {
  "kernelspec": {
   "display_name": "Python 3",
   "language": "python",
   "name": "python3"
  },
  "language_info": {
   "codemirror_mode": {
    "name": "ipython",
    "version": 3
   },
   "file_extension": ".py",
   "mimetype": "text/x-python",
   "name": "python",
   "nbconvert_exporter": "python",
   "pygments_lexer": "ipython3",
   "version": "3.11.2"
  }
 },
 "nbformat": 4,
 "nbformat_minor": 5
}
